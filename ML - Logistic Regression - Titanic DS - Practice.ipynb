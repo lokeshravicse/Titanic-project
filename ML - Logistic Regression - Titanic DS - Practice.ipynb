{
 "cells": [
  {
   "cell_type": "markdown",
   "id": "05f9e405",
   "metadata": {},
   "source": [
    "# Data Dictionary\n",
    "    Variable\tDefinition\t                                        Key\n",
    "    survival\tSurvival\t                                        0 = No, 1 = Yes\n",
    "    pclass\t    Ticket class                                  \t1 = 1st, 2 = 2nd, 3 = 3rd\n",
    "    sex\t        Sex\t\n",
    "    Age\t        Age in years\t\n",
    "    sibsp\t    # of siblings / spouses aboard the Titanic\t\n",
    "    parch\t    # of parents / children aboard the Titanic\t\n",
    "    ticket\t    Ticket number\t\n",
    "    fare\t    Passenger fare\t\n",
    "    cabin\t    Cabin number\t\n",
    "    embarked\tPort of Embarkation\t                                C = Cherbourg, Q = Queenstown, S = Southampton\n",
    "    "
   ]
  },
  {
   "cell_type": "markdown",
   "id": "1bf9503a",
   "metadata": {},
   "source": [
    "   ## Variable Notes\n",
    "    pclass: A proxy for socio-economic status (SES)\n",
    "    1st = Upper\n",
    "    2nd = Middle\n",
    "    3rd = Lower\n",
    "\n",
    "    age: Age is fractional if less than 1. If the age is estimated, is it in the form of xx.5\n",
    "\n",
    "    sibsp: The dataset defines family relations in this way...\n",
    "\n",
    "    Sibling = brother, sister, stepbrother, stepsister\n",
    "\n",
    "    Spouse = husband, wife (mistresses and fiancés were ignored)\n",
    "\n",
    "    parch: The dataset defines family relations in this way...\n",
    "\n",
    "    Parent = mother, father\n",
    "\n",
    "    Child = daughter, son, stepdaughter, stepson\n",
    "\n",
    "    Some children travelled only with a nanny, therefore parch=0 for them."
   ]
  },
  {
   "cell_type": "code",
   "execution_count": 1,
   "id": "feb0787a",
   "metadata": {},
   "outputs": [],
   "source": [
    "import pandas as pd\n",
    "import numpy as np\n",
    "import matplotlib.pyplot as plt\n",
    "import seaborn as sns\n",
    "import os"
   ]
  },
  {
   "cell_type": "markdown",
   "id": "58887806",
   "metadata": {},
   "source": [
    "## Import Data from file location"
   ]
  },
  {
   "cell_type": "code",
   "execution_count": 2,
   "id": "f09718da",
   "metadata": {},
   "outputs": [],
   "source": [
    "os.chdir(r\"C:\\Users\\Lokesh\\Programing - Lokesh\\DataScience\\Udemey\\DATA\") # change directory to file path"
   ]
  },
  {
   "cell_type": "code",
   "execution_count": 3,
   "id": "14c288f6",
   "metadata": {},
   "outputs": [],
   "source": [
    "df = pd.read_csv(\"titanic - train.csv\")"
   ]
  },
  {
   "cell_type": "markdown",
   "id": "11066891",
   "metadata": {},
   "source": [
    "## Basic Analysis"
   ]
  },
  {
   "cell_type": "code",
   "execution_count": 4,
   "id": "452c5c59",
   "metadata": {
    "scrolled": true
   },
   "outputs": [
    {
     "data": {
      "text/html": [
       "<div>\n",
       "<style scoped>\n",
       "    .dataframe tbody tr th:only-of-type {\n",
       "        vertical-align: middle;\n",
       "    }\n",
       "\n",
       "    .dataframe tbody tr th {\n",
       "        vertical-align: top;\n",
       "    }\n",
       "\n",
       "    .dataframe thead th {\n",
       "        text-align: right;\n",
       "    }\n",
       "</style>\n",
       "<table border=\"1\" class=\"dataframe\">\n",
       "  <thead>\n",
       "    <tr style=\"text-align: right;\">\n",
       "      <th></th>\n",
       "      <th>PassengerId</th>\n",
       "      <th>Survived</th>\n",
       "      <th>Pclass</th>\n",
       "      <th>Name</th>\n",
       "      <th>Sex</th>\n",
       "      <th>Age</th>\n",
       "      <th>SibSp</th>\n",
       "      <th>Parch</th>\n",
       "      <th>Ticket</th>\n",
       "      <th>Fare</th>\n",
       "      <th>Cabin</th>\n",
       "      <th>Embarked</th>\n",
       "    </tr>\n",
       "  </thead>\n",
       "  <tbody>\n",
       "    <tr>\n",
       "      <th>0</th>\n",
       "      <td>1</td>\n",
       "      <td>0</td>\n",
       "      <td>3</td>\n",
       "      <td>Braund, Mr. Owen Harris</td>\n",
       "      <td>male</td>\n",
       "      <td>22.0</td>\n",
       "      <td>1</td>\n",
       "      <td>0</td>\n",
       "      <td>A/5 21171</td>\n",
       "      <td>7.2500</td>\n",
       "      <td>NaN</td>\n",
       "      <td>S</td>\n",
       "    </tr>\n",
       "    <tr>\n",
       "      <th>1</th>\n",
       "      <td>2</td>\n",
       "      <td>1</td>\n",
       "      <td>1</td>\n",
       "      <td>Cumings, Mrs. John Bradley (Florence Briggs Th...</td>\n",
       "      <td>female</td>\n",
       "      <td>38.0</td>\n",
       "      <td>1</td>\n",
       "      <td>0</td>\n",
       "      <td>PC 17599</td>\n",
       "      <td>71.2833</td>\n",
       "      <td>C85</td>\n",
       "      <td>C</td>\n",
       "    </tr>\n",
       "    <tr>\n",
       "      <th>2</th>\n",
       "      <td>3</td>\n",
       "      <td>1</td>\n",
       "      <td>3</td>\n",
       "      <td>Heikkinen, Miss. Laina</td>\n",
       "      <td>female</td>\n",
       "      <td>26.0</td>\n",
       "      <td>0</td>\n",
       "      <td>0</td>\n",
       "      <td>STON/O2. 3101282</td>\n",
       "      <td>7.9250</td>\n",
       "      <td>NaN</td>\n",
       "      <td>S</td>\n",
       "    </tr>\n",
       "    <tr>\n",
       "      <th>3</th>\n",
       "      <td>4</td>\n",
       "      <td>1</td>\n",
       "      <td>1</td>\n",
       "      <td>Futrelle, Mrs. Jacques Heath (Lily May Peel)</td>\n",
       "      <td>female</td>\n",
       "      <td>35.0</td>\n",
       "      <td>1</td>\n",
       "      <td>0</td>\n",
       "      <td>113803</td>\n",
       "      <td>53.1000</td>\n",
       "      <td>C123</td>\n",
       "      <td>S</td>\n",
       "    </tr>\n",
       "    <tr>\n",
       "      <th>4</th>\n",
       "      <td>5</td>\n",
       "      <td>0</td>\n",
       "      <td>3</td>\n",
       "      <td>Allen, Mr. William Henry</td>\n",
       "      <td>male</td>\n",
       "      <td>35.0</td>\n",
       "      <td>0</td>\n",
       "      <td>0</td>\n",
       "      <td>373450</td>\n",
       "      <td>8.0500</td>\n",
       "      <td>NaN</td>\n",
       "      <td>S</td>\n",
       "    </tr>\n",
       "  </tbody>\n",
       "</table>\n",
       "</div>"
      ],
      "text/plain": [
       "   PassengerId  Survived  Pclass  \\\n",
       "0            1         0       3   \n",
       "1            2         1       1   \n",
       "2            3         1       3   \n",
       "3            4         1       1   \n",
       "4            5         0       3   \n",
       "\n",
       "                                                Name     Sex   Age  SibSp  \\\n",
       "0                            Braund, Mr. Owen Harris    male  22.0      1   \n",
       "1  Cumings, Mrs. John Bradley (Florence Briggs Th...  female  38.0      1   \n",
       "2                             Heikkinen, Miss. Laina  female  26.0      0   \n",
       "3       Futrelle, Mrs. Jacques Heath (Lily May Peel)  female  35.0      1   \n",
       "4                           Allen, Mr. William Henry    male  35.0      0   \n",
       "\n",
       "   Parch            Ticket     Fare Cabin Embarked  \n",
       "0      0         A/5 21171   7.2500   NaN        S  \n",
       "1      0          PC 17599  71.2833   C85        C  \n",
       "2      0  STON/O2. 3101282   7.9250   NaN        S  \n",
       "3      0            113803  53.1000  C123        S  \n",
       "4      0            373450   8.0500   NaN        S  "
      ]
     },
     "execution_count": 4,
     "metadata": {},
     "output_type": "execute_result"
    }
   ],
   "source": [
    "#Data sample visualization\n",
    "\n",
    "df.head()"
   ]
  },
  {
   "cell_type": "code",
   "execution_count": 5,
   "id": "9c7f8236",
   "metadata": {},
   "outputs": [
    {
     "name": "stdout",
     "output_type": "stream",
     "text": [
      "<class 'pandas.core.frame.DataFrame'>\n",
      "RangeIndex: 891 entries, 0 to 890\n",
      "Data columns (total 12 columns):\n",
      " #   Column       Non-Null Count  Dtype  \n",
      "---  ------       --------------  -----  \n",
      " 0   PassengerId  891 non-null    int64  \n",
      " 1   Survived     891 non-null    int64  \n",
      " 2   Pclass       891 non-null    int64  \n",
      " 3   Name         891 non-null    object \n",
      " 4   Sex          891 non-null    object \n",
      " 5   Age          714 non-null    float64\n",
      " 6   SibSp        891 non-null    int64  \n",
      " 7   Parch        891 non-null    int64  \n",
      " 8   Ticket       891 non-null    object \n",
      " 9   Fare         891 non-null    float64\n",
      " 10  Cabin        204 non-null    object \n",
      " 11  Embarked     889 non-null    object \n",
      "dtypes: float64(2), int64(5), object(5)\n",
      "memory usage: 83.7+ KB\n"
     ]
    }
   ],
   "source": [
    "#Overview info verification\n",
    "\n",
    "df.info()"
   ]
  },
  {
   "cell_type": "markdown",
   "id": "abb39953",
   "metadata": {},
   "source": [
    " * Found 891 records with 12 column values\n",
    " * some missing values in column \"Cabin\",\"Age\",\"Embarked\""
   ]
  },
  {
   "cell_type": "markdown",
   "id": "bda80cc7",
   "metadata": {},
   "source": [
    "# Data analysis using Datatype"
   ]
  },
  {
   "cell_type": "code",
   "execution_count": 6,
   "id": "a23caf68",
   "metadata": {
    "scrolled": true
   },
   "outputs": [
    {
     "data": {
      "text/html": [
       "<div>\n",
       "<style scoped>\n",
       "    .dataframe tbody tr th:only-of-type {\n",
       "        vertical-align: middle;\n",
       "    }\n",
       "\n",
       "    .dataframe tbody tr th {\n",
       "        vertical-align: top;\n",
       "    }\n",
       "\n",
       "    .dataframe thead th {\n",
       "        text-align: right;\n",
       "    }\n",
       "</style>\n",
       "<table border=\"1\" class=\"dataframe\">\n",
       "  <thead>\n",
       "    <tr style=\"text-align: right;\">\n",
       "      <th></th>\n",
       "      <th>PassengerId</th>\n",
       "      <th>Survived</th>\n",
       "      <th>Pclass</th>\n",
       "      <th>Age</th>\n",
       "      <th>SibSp</th>\n",
       "      <th>Fare</th>\n",
       "    </tr>\n",
       "    <tr>\n",
       "      <th>Parch</th>\n",
       "      <th></th>\n",
       "      <th></th>\n",
       "      <th></th>\n",
       "      <th></th>\n",
       "      <th></th>\n",
       "      <th></th>\n",
       "    </tr>\n",
       "  </thead>\n",
       "  <tbody>\n",
       "    <tr>\n",
       "      <th>0</th>\n",
       "      <td>445.255162</td>\n",
       "      <td>0.343658</td>\n",
       "      <td>2.321534</td>\n",
       "      <td>32.178503</td>\n",
       "      <td>0.237463</td>\n",
       "      <td>25.586774</td>\n",
       "    </tr>\n",
       "    <tr>\n",
       "      <th>1</th>\n",
       "      <td>465.110169</td>\n",
       "      <td>0.550847</td>\n",
       "      <td>2.203390</td>\n",
       "      <td>24.422000</td>\n",
       "      <td>1.084746</td>\n",
       "      <td>46.778180</td>\n",
       "    </tr>\n",
       "    <tr>\n",
       "      <th>2</th>\n",
       "      <td>416.662500</td>\n",
       "      <td>0.500000</td>\n",
       "      <td>2.275000</td>\n",
       "      <td>17.216912</td>\n",
       "      <td>2.062500</td>\n",
       "      <td>64.337604</td>\n",
       "    </tr>\n",
       "    <tr>\n",
       "      <th>3</th>\n",
       "      <td>579.200000</td>\n",
       "      <td>0.600000</td>\n",
       "      <td>2.600000</td>\n",
       "      <td>33.200000</td>\n",
       "      <td>1.000000</td>\n",
       "      <td>25.951660</td>\n",
       "    </tr>\n",
       "    <tr>\n",
       "      <th>4</th>\n",
       "      <td>384.000000</td>\n",
       "      <td>0.000000</td>\n",
       "      <td>2.500000</td>\n",
       "      <td>44.500000</td>\n",
       "      <td>0.750000</td>\n",
       "      <td>84.968750</td>\n",
       "    </tr>\n",
       "    <tr>\n",
       "      <th>5</th>\n",
       "      <td>435.200000</td>\n",
       "      <td>0.200000</td>\n",
       "      <td>3.000000</td>\n",
       "      <td>39.200000</td>\n",
       "      <td>0.600000</td>\n",
       "      <td>32.550000</td>\n",
       "    </tr>\n",
       "    <tr>\n",
       "      <th>6</th>\n",
       "      <td>679.000000</td>\n",
       "      <td>0.000000</td>\n",
       "      <td>3.000000</td>\n",
       "      <td>43.000000</td>\n",
       "      <td>1.000000</td>\n",
       "      <td>46.900000</td>\n",
       "    </tr>\n",
       "  </tbody>\n",
       "</table>\n",
       "</div>"
      ],
      "text/plain": [
       "       PassengerId  Survived    Pclass        Age     SibSp       Fare\n",
       "Parch                                                                 \n",
       "0       445.255162  0.343658  2.321534  32.178503  0.237463  25.586774\n",
       "1       465.110169  0.550847  2.203390  24.422000  1.084746  46.778180\n",
       "2       416.662500  0.500000  2.275000  17.216912  2.062500  64.337604\n",
       "3       579.200000  0.600000  2.600000  33.200000  1.000000  25.951660\n",
       "4       384.000000  0.000000  2.500000  44.500000  0.750000  84.968750\n",
       "5       435.200000  0.200000  3.000000  39.200000  0.600000  32.550000\n",
       "6       679.000000  0.000000  3.000000  43.000000  1.000000  46.900000"
      ]
     },
     "execution_count": 6,
     "metadata": {},
     "output_type": "execute_result"
    }
   ],
   "source": [
    "#\"parch\" is number of parents / children aboard the Titanic\n",
    "\n",
    "df.groupby(by='Parch').mean()"
   ]
  },
  {
   "cell_type": "code",
   "execution_count": 7,
   "id": "f01bf62f",
   "metadata": {},
   "outputs": [
    {
     "name": "stdout",
     "output_type": "stream",
     "text": [
      "Name :  891 Unique values\n",
      "**************************************************************************************\n",
      "Braund, Mr. Owen Harris                     1\n",
      "Boulos, Mr. Hanna                           1\n",
      "Frolicher-Stehli, Mr. Maxmillian            1\n",
      "Gilinski, Mr. Eliezer                       1\n",
      "Murdlin, Mr. Joseph                         1\n",
      "                                           ..\n",
      "Kelly, Miss. Anna Katherine \"Annie Kate\"    1\n",
      "McCoy, Mr. Bernard                          1\n",
      "Johnson, Mr. William Cahoone Jr             1\n",
      "Keane, Miss. Nora A                         1\n",
      "Dooley, Mr. Patrick                         1\n",
      "Name: Name, Length: 891, dtype: int64\n",
      "**************************************************************************************\n",
      "Sex :  2 Unique values\n",
      "**************************************************************************************\n",
      "male      577\n",
      "female    314\n",
      "Name: Sex, dtype: int64\n",
      "**************************************************************************************\n",
      "Ticket :  681 Unique values\n",
      "**************************************************************************************\n",
      "347082      7\n",
      "CA. 2343    7\n",
      "1601        7\n",
      "3101295     6\n",
      "CA 2144     6\n",
      "           ..\n",
      "9234        1\n",
      "19988       1\n",
      "2693        1\n",
      "PC 17612    1\n",
      "370376      1\n",
      "Name: Ticket, Length: 681, dtype: int64\n",
      "**************************************************************************************\n",
      "Cabin :  147 Unique values\n",
      "**************************************************************************************\n",
      "B96 B98        4\n",
      "G6             4\n",
      "C23 C25 C27    4\n",
      "C22 C26        3\n",
      "F33            3\n",
      "              ..\n",
      "E34            1\n",
      "C7             1\n",
      "C54            1\n",
      "E36            1\n",
      "C148           1\n",
      "Name: Cabin, Length: 147, dtype: int64\n",
      "**************************************************************************************\n",
      "Embarked :  3 Unique values\n",
      "**************************************************************************************\n",
      "S    644\n",
      "C    168\n",
      "Q     77\n",
      "Name: Embarked, dtype: int64\n",
      "**************************************************************************************\n"
     ]
    }
   ],
   "source": [
    "#Discribe detail dataset per column wise\n",
    "\n",
    "\n",
    "for col in df.select_dtypes(include='object').columns:\n",
    "    print(col,\": \",df[col].nunique(),\"Unique values\")\n",
    "    print(\"**************************************************************************************\")\n",
    "    print(df[col].value_counts())\n",
    "    print(\"**************************************************************************************\")"
   ]
  },
  {
   "cell_type": "code",
   "execution_count": 8,
   "id": "c7f27a0e",
   "metadata": {
    "scrolled": false
   },
   "outputs": [
    {
     "data": {
      "text/html": [
       "<div>\n",
       "<style scoped>\n",
       "    .dataframe tbody tr th:only-of-type {\n",
       "        vertical-align: middle;\n",
       "    }\n",
       "\n",
       "    .dataframe tbody tr th {\n",
       "        vertical-align: top;\n",
       "    }\n",
       "\n",
       "    .dataframe thead th {\n",
       "        text-align: right;\n",
       "    }\n",
       "</style>\n",
       "<table border=\"1\" class=\"dataframe\">\n",
       "  <thead>\n",
       "    <tr style=\"text-align: right;\">\n",
       "      <th></th>\n",
       "      <th>PassengerId</th>\n",
       "      <th>Survived</th>\n",
       "      <th>Pclass</th>\n",
       "      <th>Name</th>\n",
       "      <th>Sex</th>\n",
       "      <th>Age</th>\n",
       "      <th>SibSp</th>\n",
       "      <th>Parch</th>\n",
       "      <th>Ticket</th>\n",
       "      <th>Fare</th>\n",
       "      <th>Cabin</th>\n",
       "      <th>Embarked</th>\n",
       "    </tr>\n",
       "  </thead>\n",
       "  <tbody>\n",
       "    <tr>\n",
       "      <th>Dtype</th>\n",
       "      <td>int64</td>\n",
       "      <td>int64</td>\n",
       "      <td>int64</td>\n",
       "      <td>object</td>\n",
       "      <td>object</td>\n",
       "      <td>float64</td>\n",
       "      <td>int64</td>\n",
       "      <td>int64</td>\n",
       "      <td>object</td>\n",
       "      <td>float64</td>\n",
       "      <td>object</td>\n",
       "      <td>object</td>\n",
       "    </tr>\n",
       "    <tr>\n",
       "      <th>Unique</th>\n",
       "      <td>891</td>\n",
       "      <td>2</td>\n",
       "      <td>3</td>\n",
       "      <td>891</td>\n",
       "      <td>2</td>\n",
       "      <td>88</td>\n",
       "      <td>7</td>\n",
       "      <td>7</td>\n",
       "      <td>681</td>\n",
       "      <td>248</td>\n",
       "      <td>147</td>\n",
       "      <td>3</td>\n",
       "    </tr>\n",
       "    <tr>\n",
       "      <th>Missing_%</th>\n",
       "      <td>0.0</td>\n",
       "      <td>0.0</td>\n",
       "      <td>0.0</td>\n",
       "      <td>0.0</td>\n",
       "      <td>0.0</td>\n",
       "      <td>19.87</td>\n",
       "      <td>0.0</td>\n",
       "      <td>0.0</td>\n",
       "      <td>0.0</td>\n",
       "      <td>0.0</td>\n",
       "      <td>77.1</td>\n",
       "      <td>0.22</td>\n",
       "    </tr>\n",
       "  </tbody>\n",
       "</table>\n",
       "</div>"
      ],
      "text/plain": [
       "          PassengerId Survived Pclass    Name     Sex      Age  SibSp  Parch  \\\n",
       "Dtype           int64    int64  int64  object  object  float64  int64  int64   \n",
       "Unique            891        2      3     891       2       88      7      7   \n",
       "Missing_%         0.0      0.0    0.0     0.0     0.0    19.87    0.0    0.0   \n",
       "\n",
       "           Ticket     Fare   Cabin Embarked  \n",
       "Dtype      object  float64  object   object  \n",
       "Unique        681      248     147        3  \n",
       "Missing_%     0.0      0.0    77.1     0.22  "
      ]
     },
     "execution_count": 8,
     "metadata": {},
     "output_type": "execute_result"
    }
   ],
   "source": [
    "#finding Datatype, Unique & Missing values of each column\"\n",
    "\n",
    "temp = {col:[df[col].dtype, df[col].nunique(), round(100*df[col].isnull().sum()/len(df[col]),2)] for col in df}\n",
    "temp_df = pd.DataFrame(data=temp,index=[\"Dtype\",\"Unique\",\"Missing_%\"])\n",
    "temp_df"
   ]
  },
  {
   "cell_type": "code",
   "execution_count": 9,
   "id": "57882d5b",
   "metadata": {},
   "outputs": [
    {
     "name": "stdout",
     "output_type": "stream",
     "text": [
      "Pclass        -0.338481\n",
      "Age           -0.077221\n",
      "SibSp         -0.035322\n",
      "PassengerId   -0.005007\n",
      "Parch          0.081629\n",
      "Fare           0.257307\n",
      "Survived       1.000000\n",
      "Name: Survived, dtype: float64\n"
     ]
    },
    {
     "data": {
      "text/plain": [
       "<AxesSubplot:>"
      ]
     },
     "execution_count": 9,
     "metadata": {},
     "output_type": "execute_result"
    },
    {
     "data": {
      "image/png": "[encoded data removed]",
      "text/plain": [
       "<Figure size 432x288 with 2 Axes>"
      ]
     },
     "metadata": {
      "needs_background": "light"
     },
     "output_type": "display_data"
    }
   ],
   "source": [
    "#finding corelation b/w \"survived\" with others\n",
    "\n",
    "print(df.corr()[\"Survived\"].sort_values())\n",
    "sns.heatmap(pd.DataFrame(df.corr()[\"Survived\"].sort_values())[:-1])"
   ]
  },
  {
   "cell_type": "markdown",
   "id": "1f49809f",
   "metadata": {},
   "source": [
    "    * Fare is strong corlation with survive"
   ]
  },
  {
   "cell_type": "code",
   "execution_count": 10,
   "id": "fa1a64c2",
   "metadata": {},
   "outputs": [
    {
     "data": {
      "text/html": [
       "<div>\n",
       "<style scoped>\n",
       "    .dataframe tbody tr th:only-of-type {\n",
       "        vertical-align: middle;\n",
       "    }\n",
       "\n",
       "    .dataframe tbody tr th {\n",
       "        vertical-align: top;\n",
       "    }\n",
       "\n",
       "    .dataframe thead th {\n",
       "        text-align: right;\n",
       "    }\n",
       "</style>\n",
       "<table border=\"1\" class=\"dataframe\">\n",
       "  <thead>\n",
       "    <tr style=\"text-align: right;\">\n",
       "      <th></th>\n",
       "      <th>count</th>\n",
       "      <th>mean</th>\n",
       "      <th>std</th>\n",
       "      <th>min</th>\n",
       "      <th>25%</th>\n",
       "      <th>50%</th>\n",
       "      <th>75%</th>\n",
       "      <th>85%</th>\n",
       "      <th>max</th>\n",
       "    </tr>\n",
       "  </thead>\n",
       "  <tbody>\n",
       "    <tr>\n",
       "      <th>PassengerId</th>\n",
       "      <td>891.0</td>\n",
       "      <td>446.000000</td>\n",
       "      <td>257.353842</td>\n",
       "      <td>1.00</td>\n",
       "      <td>223.5000</td>\n",
       "      <td>446.0000</td>\n",
       "      <td>668.5</td>\n",
       "      <td>757.5000</td>\n",
       "      <td>891.0000</td>\n",
       "    </tr>\n",
       "    <tr>\n",
       "      <th>Survived</th>\n",
       "      <td>891.0</td>\n",
       "      <td>0.383838</td>\n",
       "      <td>0.486592</td>\n",
       "      <td>0.00</td>\n",
       "      <td>0.0000</td>\n",
       "      <td>0.0000</td>\n",
       "      <td>1.0</td>\n",
       "      <td>1.0000</td>\n",
       "      <td>1.0000</td>\n",
       "    </tr>\n",
       "    <tr>\n",
       "      <th>Pclass</th>\n",
       "      <td>891.0</td>\n",
       "      <td>2.308642</td>\n",
       "      <td>0.836071</td>\n",
       "      <td>1.00</td>\n",
       "      <td>2.0000</td>\n",
       "      <td>3.0000</td>\n",
       "      <td>3.0</td>\n",
       "      <td>3.0000</td>\n",
       "      <td>3.0000</td>\n",
       "    </tr>\n",
       "    <tr>\n",
       "      <th>Age</th>\n",
       "      <td>714.0</td>\n",
       "      <td>29.699118</td>\n",
       "      <td>14.526497</td>\n",
       "      <td>0.42</td>\n",
       "      <td>20.1250</td>\n",
       "      <td>28.0000</td>\n",
       "      <td>38.0</td>\n",
       "      <td>45.0000</td>\n",
       "      <td>80.0000</td>\n",
       "    </tr>\n",
       "    <tr>\n",
       "      <th>SibSp</th>\n",
       "      <td>891.0</td>\n",
       "      <td>0.523008</td>\n",
       "      <td>1.102743</td>\n",
       "      <td>0.00</td>\n",
       "      <td>0.0000</td>\n",
       "      <td>0.0000</td>\n",
       "      <td>1.0</td>\n",
       "      <td>1.0000</td>\n",
       "      <td>8.0000</td>\n",
       "    </tr>\n",
       "    <tr>\n",
       "      <th>Parch</th>\n",
       "      <td>891.0</td>\n",
       "      <td>0.381594</td>\n",
       "      <td>0.806057</td>\n",
       "      <td>0.00</td>\n",
       "      <td>0.0000</td>\n",
       "      <td>0.0000</td>\n",
       "      <td>0.0</td>\n",
       "      <td>1.0000</td>\n",
       "      <td>6.0000</td>\n",
       "    </tr>\n",
       "    <tr>\n",
       "      <th>Fare</th>\n",
       "      <td>891.0</td>\n",
       "      <td>32.204208</td>\n",
       "      <td>49.693429</td>\n",
       "      <td>0.00</td>\n",
       "      <td>7.9104</td>\n",
       "      <td>14.4542</td>\n",
       "      <td>31.0</td>\n",
       "      <td>56.4958</td>\n",
       "      <td>512.3292</td>\n",
       "    </tr>\n",
       "  </tbody>\n",
       "</table>\n",
       "</div>"
      ],
      "text/plain": [
       "             count        mean         std   min       25%       50%    75%  \\\n",
       "PassengerId  891.0  446.000000  257.353842  1.00  223.5000  446.0000  668.5   \n",
       "Survived     891.0    0.383838    0.486592  0.00    0.0000    0.0000    1.0   \n",
       "Pclass       891.0    2.308642    0.836071  1.00    2.0000    3.0000    3.0   \n",
       "Age          714.0   29.699118   14.526497  0.42   20.1250   28.0000   38.0   \n",
       "SibSp        891.0    0.523008    1.102743  0.00    0.0000    0.0000    1.0   \n",
       "Parch        891.0    0.381594    0.806057  0.00    0.0000    0.0000    0.0   \n",
       "Fare         891.0   32.204208   49.693429  0.00    7.9104   14.4542   31.0   \n",
       "\n",
       "                  85%       max  \n",
       "PassengerId  757.5000  891.0000  \n",
       "Survived       1.0000    1.0000  \n",
       "Pclass         3.0000    3.0000  \n",
       "Age           45.0000   80.0000  \n",
       "SibSp          1.0000    8.0000  \n",
       "Parch          1.0000    6.0000  \n",
       "Fare          56.4958  512.3292  "
      ]
     },
     "execution_count": 10,
     "metadata": {},
     "output_type": "execute_result"
    }
   ],
   "source": [
    "#Evaluating the int and flot values using Datatype\n",
    "\n",
    "df.describe(percentiles=[.25,.50,.75,.85]).transpose()"
   ]
  },
  {
   "cell_type": "code",
   "execution_count": 11,
   "id": "f070b40a",
   "metadata": {
    "scrolled": true
   },
   "outputs": [
    {
     "data": {
      "text/plain": [
       "Age         177\n",
       "Cabin       687\n",
       "Embarked      2\n",
       "dtype: int64"
      ]
     },
     "execution_count": 11,
     "metadata": {},
     "output_type": "execute_result"
    }
   ],
   "source": [
    "#Finding the overall missing values\n",
    "\n",
    "df.isnull().sum()[df.isnull().sum()>0]"
   ]
  },
  {
   "cell_type": "markdown",
   "id": "e0728301",
   "metadata": {},
   "source": [
    "# OBSERVATIONS:"
   ]
  },
  {
   "cell_type": "markdown",
   "id": "366f6c6e",
   "metadata": {},
   "source": [
    "    * Found \"PassengerId\", \"Name\" columns are Unique values. hence those colums need to be drop.\n",
    "    * Totally we have 891 recoards with diff 12 column values.\n",
    "    * Found dtypes : float64(2), int64(5), object(5).\n",
    "    * In dtype - object(5) found \"Sex, \"Embarked\" are catagorial values.\n",
    "    * More then 75% of \"Cabin\" are NaN.\n",
    "    * We seen the strong co-relatoin between \"Survived\" & \"Fare\"\n",
    "    * For missing Age we can find based on \"Parch\"\n",
    "    * \"Fare\" value and \"Age\" should be scaledown\n",
    "    * Age 19.87% data is Nan\n",
    "    * 85% of Passenger's is less then age at 45 - outliers"
   ]
  },
  {
   "cell_type": "markdown",
   "id": "cdda326c",
   "metadata": {},
   "source": [
    "# Feature Engineering"
   ]
  },
  {
   "cell_type": "markdown",
   "id": "433136aa",
   "metadata": {},
   "source": [
    "# Missing-Data"
   ]
  },
  {
   "cell_type": "code",
   "execution_count": 12,
   "id": "a887b074",
   "metadata": {},
   "outputs": [],
   "source": [
    "#dropped due to unique values\n",
    "\n",
    "df = df.drop([\"PassengerId\", \"Name\"], axis=1) \n",
    "\n",
    "#Dropping columns having more than 75% null values\n",
    "\n",
    "df.drop(df.columns[round(100*df.isnull().sum()/len(df),2)>75], axis = 1, inplace = True)"
   ]
  },
  {
   "cell_type": "code",
   "execution_count": 13,
   "id": "46c3f77a",
   "metadata": {},
   "outputs": [
    {
     "name": "stdout",
     "output_type": "stream",
     "text": [
      "Parch\n",
      "0    32.178503\n",
      "1    24.422000\n",
      "2    17.216912\n",
      "3    33.200000\n",
      "4    44.500000\n",
      "5    39.200000\n",
      "6    43.000000\n",
      "Name: Age, dtype: float64\n"
     ]
    }
   ],
   "source": [
    "#Based on parch person age and will change, hence 19.87% of missing values filled with based on Parch\n",
    "\n",
    "print(df.groupby(by=\"Parch\").mean()['Age'])\n",
    "df['Age'] = df['Age'].fillna(df.groupby('Parch')['Age'].transform('mean'))"
   ]
  },
  {
   "cell_type": "code",
   "execution_count": 14,
   "id": "71e24c06",
   "metadata": {},
   "outputs": [],
   "source": [
    "#Age convert flot to int for better indication\n",
    "\n",
    "df[\"Age\"] = df[\"Age\"].apply(lambda x:round(x))"
   ]
  },
  {
   "cell_type": "code",
   "execution_count": 15,
   "id": "bcf4ff0a",
   "metadata": {
    "scrolled": true
   },
   "outputs": [
    {
     "data": {
      "text/html": [
       "<div>\n",
       "<style scoped>\n",
       "    .dataframe tbody tr th:only-of-type {\n",
       "        vertical-align: middle;\n",
       "    }\n",
       "\n",
       "    .dataframe tbody tr th {\n",
       "        vertical-align: top;\n",
       "    }\n",
       "\n",
       "    .dataframe thead th {\n",
       "        text-align: right;\n",
       "    }\n",
       "</style>\n",
       "<table border=\"1\" class=\"dataframe\">\n",
       "  <thead>\n",
       "    <tr style=\"text-align: right;\">\n",
       "      <th></th>\n",
       "      <th>Survived</th>\n",
       "      <th>Pclass</th>\n",
       "      <th>Sex</th>\n",
       "      <th>Age</th>\n",
       "      <th>SibSp</th>\n",
       "      <th>Parch</th>\n",
       "      <th>Ticket</th>\n",
       "      <th>Fare</th>\n",
       "      <th>Embarked</th>\n",
       "    </tr>\n",
       "  </thead>\n",
       "  <tbody>\n",
       "    <tr>\n",
       "      <th>61</th>\n",
       "      <td>1</td>\n",
       "      <td>1</td>\n",
       "      <td>female</td>\n",
       "      <td>38</td>\n",
       "      <td>0</td>\n",
       "      <td>0</td>\n",
       "      <td>113572</td>\n",
       "      <td>80.0</td>\n",
       "      <td>NaN</td>\n",
       "    </tr>\n",
       "    <tr>\n",
       "      <th>829</th>\n",
       "      <td>1</td>\n",
       "      <td>1</td>\n",
       "      <td>female</td>\n",
       "      <td>62</td>\n",
       "      <td>0</td>\n",
       "      <td>0</td>\n",
       "      <td>113572</td>\n",
       "      <td>80.0</td>\n",
       "      <td>NaN</td>\n",
       "    </tr>\n",
       "  </tbody>\n",
       "</table>\n",
       "</div>"
      ],
      "text/plain": [
       "     Survived  Pclass     Sex  Age  SibSp  Parch  Ticket  Fare Embarked\n",
       "61          1       1  female   38      0      0  113572  80.0      NaN\n",
       "829         1       1  female   62      0      0  113572  80.0      NaN"
      ]
     },
     "execution_count": 15,
     "metadata": {},
     "output_type": "execute_result"
    }
   ],
   "source": [
    "#finding the Embarked column issing values\n",
    "\n",
    "df[df.Embarked.isnull()]"
   ]
  },
  {
   "cell_type": "code",
   "execution_count": 16,
   "id": "b1790859",
   "metadata": {
    "scrolled": true
   },
   "outputs": [
    {
     "data": {
      "text/html": [
       "<div>\n",
       "<style scoped>\n",
       "    .dataframe tbody tr th:only-of-type {\n",
       "        vertical-align: middle;\n",
       "    }\n",
       "\n",
       "    .dataframe tbody tr th {\n",
       "        vertical-align: top;\n",
       "    }\n",
       "\n",
       "    .dataframe thead th {\n",
       "        text-align: right;\n",
       "    }\n",
       "</style>\n",
       "<table border=\"1\" class=\"dataframe\">\n",
       "  <thead>\n",
       "    <tr style=\"text-align: right;\">\n",
       "      <th></th>\n",
       "      <th>Fare</th>\n",
       "      <th>Pclass</th>\n",
       "    </tr>\n",
       "    <tr>\n",
       "      <th>Embarked</th>\n",
       "      <th></th>\n",
       "      <th></th>\n",
       "    </tr>\n",
       "  </thead>\n",
       "  <tbody>\n",
       "    <tr>\n",
       "      <th>C</th>\n",
       "      <td>83.912994</td>\n",
       "      <td>0.944100</td>\n",
       "    </tr>\n",
       "    <tr>\n",
       "      <th>Q</th>\n",
       "      <td>14.188047</td>\n",
       "      <td>0.369274</td>\n",
       "    </tr>\n",
       "    <tr>\n",
       "      <th>S</th>\n",
       "      <td>35.887993</td>\n",
       "      <td>0.789402</td>\n",
       "    </tr>\n",
       "  </tbody>\n",
       "</table>\n",
       "</div>"
      ],
      "text/plain": [
       "               Fare    Pclass\n",
       "Embarked                     \n",
       "C         83.912994  0.944100\n",
       "Q         14.188047  0.369274\n",
       "S         35.887993  0.789402"
      ]
     },
     "execution_count": 16,
     "metadata": {},
     "output_type": "execute_result"
    }
   ],
   "source": [
    "#'Embarked' have strong connection b/w 'Fare','Pclass' but we can find the clear indication based on Ticket Number\n",
    "\n",
    "df.groupby(by='Embarked').std()[['Fare','Pclass']]"
   ]
  },
  {
   "cell_type": "code",
   "execution_count": 17,
   "id": "0bb72dbc",
   "metadata": {
    "scrolled": true
   },
   "outputs": [
    {
     "data": {
      "text/html": [
       "<div>\n",
       "<style scoped>\n",
       "    .dataframe tbody tr th:only-of-type {\n",
       "        vertical-align: middle;\n",
       "    }\n",
       "\n",
       "    .dataframe tbody tr th {\n",
       "        vertical-align: top;\n",
       "    }\n",
       "\n",
       "    .dataframe thead th {\n",
       "        text-align: right;\n",
       "    }\n",
       "</style>\n",
       "<table border=\"1\" class=\"dataframe\">\n",
       "  <thead>\n",
       "    <tr style=\"text-align: right;\">\n",
       "      <th></th>\n",
       "      <th>Survived</th>\n",
       "      <th>Pclass</th>\n",
       "      <th>Sex</th>\n",
       "      <th>Age</th>\n",
       "      <th>SibSp</th>\n",
       "      <th>Parch</th>\n",
       "      <th>Ticket</th>\n",
       "      <th>Fare</th>\n",
       "      <th>Embarked</th>\n",
       "    </tr>\n",
       "  </thead>\n",
       "  <tbody>\n",
       "    <tr>\n",
       "      <th>34</th>\n",
       "      <td>0</td>\n",
       "      <td>1</td>\n",
       "      <td>male</td>\n",
       "      <td>28</td>\n",
       "      <td>1</td>\n",
       "      <td>0</td>\n",
       "      <td>PC 17604</td>\n",
       "      <td>82.1708</td>\n",
       "      <td>C</td>\n",
       "    </tr>\n",
       "    <tr>\n",
       "      <th>61</th>\n",
       "      <td>1</td>\n",
       "      <td>1</td>\n",
       "      <td>female</td>\n",
       "      <td>38</td>\n",
       "      <td>0</td>\n",
       "      <td>0</td>\n",
       "      <td>113572</td>\n",
       "      <td>80.0000</td>\n",
       "      <td>NaN</td>\n",
       "    </tr>\n",
       "    <tr>\n",
       "      <th>139</th>\n",
       "      <td>0</td>\n",
       "      <td>1</td>\n",
       "      <td>male</td>\n",
       "      <td>24</td>\n",
       "      <td>0</td>\n",
       "      <td>0</td>\n",
       "      <td>PC 17593</td>\n",
       "      <td>79.2000</td>\n",
       "      <td>C</td>\n",
       "    </tr>\n",
       "    <tr>\n",
       "      <th>256</th>\n",
       "      <td>1</td>\n",
       "      <td>1</td>\n",
       "      <td>female</td>\n",
       "      <td>32</td>\n",
       "      <td>0</td>\n",
       "      <td>0</td>\n",
       "      <td>PC 17585</td>\n",
       "      <td>79.2000</td>\n",
       "      <td>C</td>\n",
       "    </tr>\n",
       "    <tr>\n",
       "      <th>262</th>\n",
       "      <td>0</td>\n",
       "      <td>1</td>\n",
       "      <td>male</td>\n",
       "      <td>52</td>\n",
       "      <td>1</td>\n",
       "      <td>1</td>\n",
       "      <td>110413</td>\n",
       "      <td>79.6500</td>\n",
       "      <td>S</td>\n",
       "    </tr>\n",
       "    <tr>\n",
       "      <th>375</th>\n",
       "      <td>1</td>\n",
       "      <td>1</td>\n",
       "      <td>female</td>\n",
       "      <td>32</td>\n",
       "      <td>1</td>\n",
       "      <td>0</td>\n",
       "      <td>PC 17604</td>\n",
       "      <td>82.1708</td>\n",
       "      <td>C</td>\n",
       "    </tr>\n",
       "    <tr>\n",
       "      <th>445</th>\n",
       "      <td>1</td>\n",
       "      <td>1</td>\n",
       "      <td>male</td>\n",
       "      <td>4</td>\n",
       "      <td>0</td>\n",
       "      <td>2</td>\n",
       "      <td>33638</td>\n",
       "      <td>81.8583</td>\n",
       "      <td>S</td>\n",
       "    </tr>\n",
       "    <tr>\n",
       "      <th>558</th>\n",
       "      <td>1</td>\n",
       "      <td>1</td>\n",
       "      <td>female</td>\n",
       "      <td>39</td>\n",
       "      <td>1</td>\n",
       "      <td>1</td>\n",
       "      <td>110413</td>\n",
       "      <td>79.6500</td>\n",
       "      <td>S</td>\n",
       "    </tr>\n",
       "    <tr>\n",
       "      <th>585</th>\n",
       "      <td>1</td>\n",
       "      <td>1</td>\n",
       "      <td>female</td>\n",
       "      <td>18</td>\n",
       "      <td>0</td>\n",
       "      <td>2</td>\n",
       "      <td>110413</td>\n",
       "      <td>79.6500</td>\n",
       "      <td>S</td>\n",
       "    </tr>\n",
       "    <tr>\n",
       "      <th>587</th>\n",
       "      <td>1</td>\n",
       "      <td>1</td>\n",
       "      <td>male</td>\n",
       "      <td>60</td>\n",
       "      <td>1</td>\n",
       "      <td>1</td>\n",
       "      <td>13567</td>\n",
       "      <td>79.2000</td>\n",
       "      <td>C</td>\n",
       "    </tr>\n",
       "    <tr>\n",
       "      <th>789</th>\n",
       "      <td>0</td>\n",
       "      <td>1</td>\n",
       "      <td>male</td>\n",
       "      <td>46</td>\n",
       "      <td>0</td>\n",
       "      <td>0</td>\n",
       "      <td>PC 17593</td>\n",
       "      <td>79.2000</td>\n",
       "      <td>C</td>\n",
       "    </tr>\n",
       "    <tr>\n",
       "      <th>829</th>\n",
       "      <td>1</td>\n",
       "      <td>1</td>\n",
       "      <td>female</td>\n",
       "      <td>62</td>\n",
       "      <td>0</td>\n",
       "      <td>0</td>\n",
       "      <td>113572</td>\n",
       "      <td>80.0000</td>\n",
       "      <td>NaN</td>\n",
       "    </tr>\n",
       "  </tbody>\n",
       "</table>\n",
       "</div>"
      ],
      "text/plain": [
       "     Survived  Pclass     Sex  Age  SibSp  Parch    Ticket     Fare Embarked\n",
       "34          0       1    male   28      1      0  PC 17604  82.1708        C\n",
       "61          1       1  female   38      0      0    113572  80.0000      NaN\n",
       "139         0       1    male   24      0      0  PC 17593  79.2000        C\n",
       "256         1       1  female   32      0      0  PC 17585  79.2000        C\n",
       "262         0       1    male   52      1      1    110413  79.6500        S\n",
       "375         1       1  female   32      1      0  PC 17604  82.1708        C\n",
       "445         1       1    male    4      0      2     33638  81.8583        S\n",
       "558         1       1  female   39      1      1    110413  79.6500        S\n",
       "585         1       1  female   18      0      2    110413  79.6500        S\n",
       "587         1       1    male   60      1      1     13567  79.2000        C\n",
       "789         0       1    male   46      0      0  PC 17593  79.2000        C\n",
       "829         1       1  female   62      0      0    113572  80.0000      NaN"
      ]
     },
     "execution_count": 17,
     "metadata": {},
     "output_type": "execute_result"
    }
   ],
   "source": [
    "#Find the clear indication based on Ticket Number\n",
    "\n",
    "df[df[\"Fare\"].between(79,83)]"
   ]
  },
  {
   "cell_type": "markdown",
   "id": "edfc0495",
   "metadata": {},
   "source": [
    "    Here we can see Ticket number profix \"PC\" is C class remaining indiger maximum in S class"
   ]
  },
  {
   "cell_type": "code",
   "execution_count": 18,
   "id": "f5ac2ab8",
   "metadata": {
    "scrolled": true
   },
   "outputs": [],
   "source": [
    "#based on ticket number we can fill the Ebbarked as \"s\" value\n",
    "\n",
    "df['Embarked'].fillna(\"S\",inplace=True)"
   ]
  },
  {
   "cell_type": "code",
   "execution_count": 19,
   "id": "a96a01fe",
   "metadata": {},
   "outputs": [
    {
     "data": {
      "text/html": [
       "<div>\n",
       "<style scoped>\n",
       "    .dataframe tbody tr th:only-of-type {\n",
       "        vertical-align: middle;\n",
       "    }\n",
       "\n",
       "    .dataframe tbody tr th {\n",
       "        vertical-align: top;\n",
       "    }\n",
       "\n",
       "    .dataframe thead th {\n",
       "        text-align: right;\n",
       "    }\n",
       "</style>\n",
       "<table border=\"1\" class=\"dataframe\">\n",
       "  <thead>\n",
       "    <tr style=\"text-align: right;\">\n",
       "      <th></th>\n",
       "      <th>Survived</th>\n",
       "      <th>Pclass</th>\n",
       "      <th>Sex</th>\n",
       "      <th>Age</th>\n",
       "      <th>SibSp</th>\n",
       "      <th>Parch</th>\n",
       "      <th>Ticket</th>\n",
       "      <th>Fare</th>\n",
       "      <th>Embarked</th>\n",
       "    </tr>\n",
       "  </thead>\n",
       "  <tbody>\n",
       "    <tr>\n",
       "      <th>Dtype</th>\n",
       "      <td>int64</td>\n",
       "      <td>int64</td>\n",
       "      <td>object</td>\n",
       "      <td>int64</td>\n",
       "      <td>int64</td>\n",
       "      <td>int64</td>\n",
       "      <td>object</td>\n",
       "      <td>float64</td>\n",
       "      <td>object</td>\n",
       "    </tr>\n",
       "    <tr>\n",
       "      <th>Unique</th>\n",
       "      <td>2</td>\n",
       "      <td>3</td>\n",
       "      <td>2</td>\n",
       "      <td>71</td>\n",
       "      <td>7</td>\n",
       "      <td>7</td>\n",
       "      <td>681</td>\n",
       "      <td>248</td>\n",
       "      <td>3</td>\n",
       "    </tr>\n",
       "    <tr>\n",
       "      <th>Missing_%</th>\n",
       "      <td>0.0</td>\n",
       "      <td>0.0</td>\n",
       "      <td>0.0</td>\n",
       "      <td>0.0</td>\n",
       "      <td>0.0</td>\n",
       "      <td>0.0</td>\n",
       "      <td>0.0</td>\n",
       "      <td>0.0</td>\n",
       "      <td>0.0</td>\n",
       "    </tr>\n",
       "  </tbody>\n",
       "</table>\n",
       "</div>"
      ],
      "text/plain": [
       "          Survived Pclass     Sex    Age  SibSp  Parch  Ticket     Fare  \\\n",
       "Dtype        int64  int64  object  int64  int64  int64  object  float64   \n",
       "Unique           2      3       2     71      7      7     681      248   \n",
       "Missing_%      0.0    0.0     0.0    0.0    0.0    0.0     0.0      0.0   \n",
       "\n",
       "          Embarked  \n",
       "Dtype       object  \n",
       "Unique           3  \n",
       "Missing_%      0.0  "
      ]
     },
     "execution_count": 19,
     "metadata": {},
     "output_type": "execute_result"
    }
   ],
   "source": [
    "##finding Datatype, Unique & Missing values of each column\"\n",
    "\n",
    "temp = {col:[df[col].dtype, df[col].nunique(), round(100*df[col].isnull().sum()/len(df[col]),2)] for col in df}\n",
    "temp_df = pd.DataFrame(data=temp,index=[\"Dtype\",\"Unique\",\"Missing_%\"])\n",
    "temp_df"
   ]
  },
  {
   "cell_type": "markdown",
   "id": "f0c17c36",
   "metadata": {},
   "source": [
    "    finally figured out all missing data except cabin column"
   ]
  },
  {
   "cell_type": "markdown",
   "id": "3084b3c9",
   "metadata": {},
   "source": [
    "# Outliers"
   ]
  },
  {
   "cell_type": "code",
   "execution_count": 20,
   "id": "86339a36",
   "metadata": {},
   "outputs": [
    {
     "data": {
      "text/plain": [
       "<matplotlib.legend.Legend at 0x248243a5a60>"
      ]
     },
     "execution_count": 20,
     "metadata": {},
     "output_type": "execute_result"
    },
    {
     "data": {
      "image/png": "[encoded data removed]",
      "text/plain": [
       "<Figure size 432x288 with 1 Axes>"
      ]
     },
     "metadata": {
      "needs_background": "light"
     },
     "output_type": "display_data"
    },
    {
     "data": {
      "image/png": "[encoded data removed]",
      "text/plain": [
       "<Figure size 432x288 with 1 Axes>"
      ]
     },
     "metadata": {
      "needs_background": "light"
     },
     "output_type": "display_data"
    }
   ],
   "source": [
    "#Find the out\n",
    "\n",
    "sns.scatterplot(data=df,y='Age',x='Age',hue='Survived');\n",
    "plt.grid()\n",
    "fig = plt.subplots()\n",
    "sns.scatterplot(data=df,y='Age',x='Age',hue='Survived');\n",
    "plt.grid()\n",
    "plt.xlim(65,90)\n",
    "plt.legend()"
   ]
  },
  {
   "cell_type": "markdown",
   "id": "c8aa8ca1",
   "metadata": {},
   "source": [
    "# EDA"
   ]
  },
  {
   "cell_type": "code",
   "execution_count": 21,
   "id": "2e1bea0c",
   "metadata": {
    "scrolled": false
   },
   "outputs": [
    {
     "data": {
      "image/png": "[encoded data removed]",
      "text/plain": [
       "<Figure size 432x288 with 1 Axes>"
      ]
     },
     "metadata": {
      "needs_background": "light"
     },
     "output_type": "display_data"
    }
   ],
   "source": [
    "#Fare value between 1 to 50 minimum survived\n",
    "\n",
    "sns.scatterplot(data=df[df[\"Fare\"].between(1,50)],y='Fare',x='Age',hue='Survived');"
   ]
  },
  {
   "cell_type": "code",
   "execution_count": 22,
   "id": "496b02f1",
   "metadata": {},
   "outputs": [
    {
     "data": {
      "image/png": "[encoded data removed]",
      "text/plain": [
       "<Figure size 432x288 with 1 Axes>"
      ]
     },
     "metadata": {
      "needs_background": "light"
     },
     "output_type": "display_data"
    }
   ],
   "source": [
    "#Fare value between 51 to 500 maximum survived\n",
    "\n",
    "sns.scatterplot(data=df[df[\"Fare\"].between(51,500)],y='Fare',x='Age',hue='Survived');"
   ]
  },
  {
   "cell_type": "code",
   "execution_count": 23,
   "id": "60aa4c35",
   "metadata": {},
   "outputs": [
    {
     "data": {
      "image/png": "[encoded data removed]",
      "text/plain": [
       "<Figure size 432x288 with 1 Axes>"
      ]
     },
     "metadata": {
      "needs_background": "light"
     },
     "output_type": "display_data"
    },
    {
     "data": {
      "image/png": "[encoded data removed]",
      "text/plain": [
       "<Figure size 432x288 with 1 Axes>"
      ]
     },
     "metadata": {
      "needs_background": "light"
     },
     "output_type": "display_data"
    },
    {
     "data": {
      "image/png": "[encoded data removed]",
      "text/plain": [
       "<Figure size 432x288 with 1 Axes>"
      ]
     },
     "metadata": {
      "needs_background": "light"
     },
     "output_type": "display_data"
    }
   ],
   "source": [
    "#vishualize Passenger survival based on class\n",
    "\n",
    "sns.scatterplot(data=df[df['Pclass']==1],y='Fare',x='Age',hue='Survived');\n",
    "plt.title('First class Passenger')\n",
    "fig = plt.subplots()\n",
    "sns.scatterplot(data=df[df['Pclass']==2],y='Fare',x='Age',hue='Survived');\n",
    "plt.title('Second class Passenger')\n",
    "fig = plt.subplots()\n",
    "sns.scatterplot(data=df[df['Pclass']==3],y='Fare',x='Age',hue='Survived');\n",
    "plt.title('Third class Passenger');"
   ]
  },
  {
   "cell_type": "markdown",
   "id": "bd4c1788",
   "metadata": {},
   "source": [
    "    We can see the clear indication of class's and suvived pasangers. maximum suvival % is in 1st class"
   ]
  },
  {
   "cell_type": "code",
   "execution_count": 24,
   "id": "4dd7fcec",
   "metadata": {
    "scrolled": true
   },
   "outputs": [
    {
     "data": {
      "image/png": "[encoded data removed]",
      "text/plain": [
       "<Figure size 432x288 with 1 Axes>"
      ]
     },
     "metadata": {
      "needs_background": "light"
     },
     "output_type": "display_data"
    }
   ],
   "source": [
    "#Survival based on gender\n",
    "\n",
    "sns.countplot(data=df[df['Survived']==1],x='Survived',hue='Sex')\n",
    "plt.title('Survival based on gender');"
   ]
  },
  {
   "cell_type": "code",
   "execution_count": 25,
   "id": "7fb65d2a",
   "metadata": {},
   "outputs": [
    {
     "data": {
      "image/png": "[encoded data removed]",
      "text/plain": [
       "<Figure size 600x400 with 1 Axes>"
      ]
     },
     "metadata": {
      "needs_background": "light"
     },
     "output_type": "display_data"
    }
   ],
   "source": [
    "#Survival based on gender\n",
    "\n",
    "plt.figure(figsize=(6,4),dpi=100)\n",
    "sns.countplot(data=df[df['Survived']==1],x='Age')\n",
    "plt.xticks(rotation = 90)\n",
    "plt.tight_layout();"
   ]
  },
  {
   "cell_type": "markdown",
   "id": "5cba2b47",
   "metadata": {},
   "source": [
    "    At the age batween 32 maximum survival % occured"
   ]
  },
  {
   "cell_type": "markdown",
   "id": "21900079",
   "metadata": {},
   "source": [
    "# Working on Ticket column "
   ]
  },
  {
   "cell_type": "markdown",
   "id": "30f77c9e",
   "metadata": {},
   "source": [
    "Ticket has the object and int values"
   ]
  },
  {
   "cell_type": "code",
   "execution_count": 26,
   "id": "31271d1d",
   "metadata": {},
   "outputs": [],
   "source": [
    "df['Ticket']=df['Ticket'].apply(lambda x: x.split())"
   ]
  },
  {
   "cell_type": "code",
   "execution_count": 27,
   "id": "f32b1194",
   "metadata": {},
   "outputs": [],
   "source": [
    "df['Ticket1'] = df['Ticket'].apply(lambda x: x[-1])"
   ]
  },
  {
   "cell_type": "code",
   "execution_count": 28,
   "id": "bcbb333d",
   "metadata": {},
   "outputs": [],
   "source": [
    "df['Ticket1'] = df['Ticket1'].apply(pd.to_numeric, errors='ignore')"
   ]
  },
  {
   "cell_type": "code",
   "execution_count": 29,
   "id": "c1296e81",
   "metadata": {},
   "outputs": [],
   "source": [
    "df['Ticket2'] = df['Ticket'].apply(lambda x: x[0])"
   ]
  },
  {
   "cell_type": "code",
   "execution_count": 30,
   "id": "ceb7b0dc",
   "metadata": {},
   "outputs": [],
   "source": [
    "df = df.drop('Ticket',axis=1)"
   ]
  },
  {
   "cell_type": "code",
   "execution_count": 31,
   "id": "2c8a52af",
   "metadata": {},
   "outputs": [
    {
     "data": {
      "text/html": [
       "<div>\n",
       "<style scoped>\n",
       "    .dataframe tbody tr th:only-of-type {\n",
       "        vertical-align: middle;\n",
       "    }\n",
       "\n",
       "    .dataframe tbody tr th {\n",
       "        vertical-align: top;\n",
       "    }\n",
       "\n",
       "    .dataframe thead th {\n",
       "        text-align: right;\n",
       "    }\n",
       "</style>\n",
       "<table border=\"1\" class=\"dataframe\">\n",
       "  <thead>\n",
       "    <tr style=\"text-align: right;\">\n",
       "      <th></th>\n",
       "      <th>Survived</th>\n",
       "      <th>Pclass</th>\n",
       "      <th>Sex</th>\n",
       "      <th>Age</th>\n",
       "      <th>SibSp</th>\n",
       "      <th>Parch</th>\n",
       "      <th>Fare</th>\n",
       "      <th>Embarked</th>\n",
       "      <th>Ticket1</th>\n",
       "      <th>Ticket2</th>\n",
       "    </tr>\n",
       "  </thead>\n",
       "  <tbody>\n",
       "    <tr>\n",
       "      <th>Dtype</th>\n",
       "      <td>int64</td>\n",
       "      <td>int64</td>\n",
       "      <td>object</td>\n",
       "      <td>int64</td>\n",
       "      <td>int64</td>\n",
       "      <td>int64</td>\n",
       "      <td>float64</td>\n",
       "      <td>object</td>\n",
       "      <td>object</td>\n",
       "      <td>object</td>\n",
       "    </tr>\n",
       "    <tr>\n",
       "      <th>Unique</th>\n",
       "      <td>2</td>\n",
       "      <td>3</td>\n",
       "      <td>2</td>\n",
       "      <td>71</td>\n",
       "      <td>7</td>\n",
       "      <td>7</td>\n",
       "      <td>248</td>\n",
       "      <td>3</td>\n",
       "      <td>679</td>\n",
       "      <td>557</td>\n",
       "    </tr>\n",
       "    <tr>\n",
       "      <th>Missing_%</th>\n",
       "      <td>0.0</td>\n",
       "      <td>0.0</td>\n",
       "      <td>0.0</td>\n",
       "      <td>0.0</td>\n",
       "      <td>0.0</td>\n",
       "      <td>0.0</td>\n",
       "      <td>0.0</td>\n",
       "      <td>0.0</td>\n",
       "      <td>0.0</td>\n",
       "      <td>0.0</td>\n",
       "    </tr>\n",
       "  </tbody>\n",
       "</table>\n",
       "</div>"
      ],
      "text/plain": [
       "          Survived Pclass     Sex    Age  SibSp  Parch     Fare Embarked  \\\n",
       "Dtype        int64  int64  object  int64  int64  int64  float64   object   \n",
       "Unique           2      3       2     71      7      7      248        3   \n",
       "Missing_%      0.0    0.0     0.0    0.0    0.0    0.0      0.0      0.0   \n",
       "\n",
       "          Ticket1 Ticket2  \n",
       "Dtype      object  object  \n",
       "Unique        679     557  \n",
       "Missing_%     0.0     0.0  "
      ]
     },
     "execution_count": 31,
     "metadata": {},
     "output_type": "execute_result"
    }
   ],
   "source": [
    "##finding Datatype, Unique & Missing values of each column\"\n",
    "\n",
    "temp = {col:[df[col].dtype, df[col].nunique(), round(100*df[col].isnull().sum()/len(df[col]),2)] for col in df}\n",
    "temp_df = pd.DataFrame(data=temp,index=[\"Dtype\",\"Unique\",\"Missing_%\"])\n",
    "temp_df"
   ]
  },
  {
   "cell_type": "markdown",
   "id": "0183700b",
   "metadata": {},
   "source": [
    "## Extracting object dtype in column"
   ]
  },
  {
   "cell_type": "code",
   "execution_count": 32,
   "id": "7fa8a9e1",
   "metadata": {},
   "outputs": [],
   "source": [
    "count = {}\n",
    "num = -1\n",
    "for x in df['Ticket1']:\n",
    "    num = num+1\n",
    "    try:\n",
    "        int(x)\n",
    "    except:\n",
    "        count[num] = x"
   ]
  },
  {
   "cell_type": "code",
   "execution_count": 77,
   "id": "d2587ba6",
   "metadata": {},
   "outputs": [
    {
     "data": {
      "text/plain": [
       "{179: 'LINE', 271: 'LINE', 302: 'LINE', 597: 'LINE'}"
      ]
     },
     "execution_count": 77,
     "metadata": {},
     "output_type": "execute_result"
    }
   ],
   "source": [
    "#fount 4 string values in inseger column\n",
    "\n",
    "count"
   ]
  },
  {
   "cell_type": "code",
   "execution_count": 33,
   "id": "d2325526",
   "metadata": {
    "scrolled": false
   },
   "outputs": [
    {
     "name": "stderr",
     "output_type": "stream",
     "text": [
      "E:\\Users\\Lokesh\\anaconda3\\lib\\site-packages\\pandas\\core\\indexing.py:1732: SettingWithCopyWarning: \n",
      "A value is trying to be set on a copy of a slice from a DataFrame\n",
      "\n",
      "See the caveats in the documentation: https://pandas.pydata.org/pandas-docs/stable/user_guide/indexing.html#returning-a-view-versus-a-copy\n",
      "  self._setitem_single_block(indexer, value, name)\n"
     ]
    }
   ],
   "source": [
    "#lets assume zero for this passanger due to no fare value\n",
    "\n",
    "df['Ticket1'].iloc[list(count.keys())]=0"
   ]
  },
  {
   "cell_type": "code",
   "execution_count": 37,
   "id": "e474dfc3",
   "metadata": {},
   "outputs": [],
   "source": [
    "df['Ticket1'] = df['Ticket1'].apply(pd.to_numeric, errors='ignore')"
   ]
  },
  {
   "cell_type": "code",
   "execution_count": 34,
   "id": "665dd5d6",
   "metadata": {},
   "outputs": [],
   "source": [
    "New_count = {}\n",
    "num = -1\n",
    "for x in df['Ticket2']:\n",
    "    num = num+1\n",
    "    try:\n",
    "        int(x)\n",
    "        New_count[num] = x\n",
    "    except:\n",
    "        pass"
   ]
  },
  {
   "cell_type": "code",
   "execution_count": 35,
   "id": "e7fb6503",
   "metadata": {},
   "outputs": [],
   "source": [
    "temp_list = list(New_count.keys())"
   ]
  },
  {
   "cell_type": "code",
   "execution_count": 36,
   "id": "3280d48b",
   "metadata": {},
   "outputs": [],
   "source": [
    "#add a new string for all int values in object column\n",
    "\n",
    "df['Ticket2'].iloc[temp_list]='Normal'"
   ]
  },
  {
   "cell_type": "code",
   "execution_count": 38,
   "id": "02122d64",
   "metadata": {
    "scrolled": true
   },
   "outputs": [
    {
     "data": {
      "text/html": [
       "<div>\n",
       "<style scoped>\n",
       "    .dataframe tbody tr th:only-of-type {\n",
       "        vertical-align: middle;\n",
       "    }\n",
       "\n",
       "    .dataframe tbody tr th {\n",
       "        vertical-align: top;\n",
       "    }\n",
       "\n",
       "    .dataframe thead th {\n",
       "        text-align: right;\n",
       "    }\n",
       "</style>\n",
       "<table border=\"1\" class=\"dataframe\">\n",
       "  <thead>\n",
       "    <tr style=\"text-align: right;\">\n",
       "      <th></th>\n",
       "      <th>Survived</th>\n",
       "      <th>Pclass</th>\n",
       "      <th>Sex</th>\n",
       "      <th>Age</th>\n",
       "      <th>SibSp</th>\n",
       "      <th>Parch</th>\n",
       "      <th>Fare</th>\n",
       "      <th>Embarked</th>\n",
       "      <th>Ticket1</th>\n",
       "      <th>Ticket2</th>\n",
       "    </tr>\n",
       "  </thead>\n",
       "  <tbody>\n",
       "    <tr>\n",
       "      <th>Dtype</th>\n",
       "      <td>int64</td>\n",
       "      <td>int64</td>\n",
       "      <td>object</td>\n",
       "      <td>int64</td>\n",
       "      <td>int64</td>\n",
       "      <td>int64</td>\n",
       "      <td>float64</td>\n",
       "      <td>object</td>\n",
       "      <td>int64</td>\n",
       "      <td>object</td>\n",
       "    </tr>\n",
       "    <tr>\n",
       "      <th>Unique</th>\n",
       "      <td>2</td>\n",
       "      <td>3</td>\n",
       "      <td>2</td>\n",
       "      <td>71</td>\n",
       "      <td>7</td>\n",
       "      <td>7</td>\n",
       "      <td>248</td>\n",
       "      <td>3</td>\n",
       "      <td>679</td>\n",
       "      <td>44</td>\n",
       "    </tr>\n",
       "    <tr>\n",
       "      <th>Missing_%</th>\n",
       "      <td>0.0</td>\n",
       "      <td>0.0</td>\n",
       "      <td>0.0</td>\n",
       "      <td>0.0</td>\n",
       "      <td>0.0</td>\n",
       "      <td>0.0</td>\n",
       "      <td>0.0</td>\n",
       "      <td>0.0</td>\n",
       "      <td>0.0</td>\n",
       "      <td>0.0</td>\n",
       "    </tr>\n",
       "  </tbody>\n",
       "</table>\n",
       "</div>"
      ],
      "text/plain": [
       "          Survived Pclass     Sex    Age  SibSp  Parch     Fare Embarked  \\\n",
       "Dtype        int64  int64  object  int64  int64  int64  float64   object   \n",
       "Unique           2      3       2     71      7      7      248        3   \n",
       "Missing_%      0.0    0.0     0.0    0.0    0.0    0.0      0.0      0.0   \n",
       "\n",
       "          Ticket1 Ticket2  \n",
       "Dtype       int64  object  \n",
       "Unique        679      44  \n",
       "Missing_%     0.0     0.0  "
      ]
     },
     "execution_count": 38,
     "metadata": {},
     "output_type": "execute_result"
    }
   ],
   "source": [
    "temp = {col:[df[col].dtype, df[col].nunique(), round(100*df[col].isnull().sum()/len(df[col]),2)] for col in df}\n",
    "temp_df = pd.DataFrame(data=temp,index=[\"Dtype\",\"Unique\",\"Missing_%\"])\n",
    "temp_df"
   ]
  },
  {
   "cell_type": "markdown",
   "id": "c37f4bc2",
   "metadata": {},
   "source": [
    "# Working on Categorical data"
   ]
  },
  {
   "cell_type": "code",
   "execution_count": 39,
   "id": "d3446c73",
   "metadata": {},
   "outputs": [],
   "source": [
    "df['Sex'] = df['Sex'].replace({'male':0,'female':1})"
   ]
  },
  {
   "cell_type": "code",
   "execution_count": 40,
   "id": "6f5ed8a6",
   "metadata": {},
   "outputs": [],
   "source": [
    "df['Sex'] = df['Sex'].apply(pd.to_numeric, errors='ignore')"
   ]
  },
  {
   "cell_type": "code",
   "execution_count": 41,
   "id": "6d49ec7e",
   "metadata": {},
   "outputs": [
    {
     "data": {
      "text/html": [
       "<div>\n",
       "<style scoped>\n",
       "    .dataframe tbody tr th:only-of-type {\n",
       "        vertical-align: middle;\n",
       "    }\n",
       "\n",
       "    .dataframe tbody tr th {\n",
       "        vertical-align: top;\n",
       "    }\n",
       "\n",
       "    .dataframe thead th {\n",
       "        text-align: right;\n",
       "    }\n",
       "</style>\n",
       "<table border=\"1\" class=\"dataframe\">\n",
       "  <thead>\n",
       "    <tr style=\"text-align: right;\">\n",
       "      <th></th>\n",
       "      <th>Survived</th>\n",
       "      <th>Pclass</th>\n",
       "      <th>Sex</th>\n",
       "      <th>Age</th>\n",
       "      <th>SibSp</th>\n",
       "      <th>Parch</th>\n",
       "      <th>Fare</th>\n",
       "      <th>Embarked</th>\n",
       "      <th>Ticket1</th>\n",
       "      <th>Ticket2</th>\n",
       "    </tr>\n",
       "  </thead>\n",
       "  <tbody>\n",
       "    <tr>\n",
       "      <th>Dtype</th>\n",
       "      <td>int64</td>\n",
       "      <td>int64</td>\n",
       "      <td>int64</td>\n",
       "      <td>int64</td>\n",
       "      <td>int64</td>\n",
       "      <td>int64</td>\n",
       "      <td>float64</td>\n",
       "      <td>object</td>\n",
       "      <td>int64</td>\n",
       "      <td>object</td>\n",
       "    </tr>\n",
       "    <tr>\n",
       "      <th>Unique</th>\n",
       "      <td>2</td>\n",
       "      <td>3</td>\n",
       "      <td>2</td>\n",
       "      <td>71</td>\n",
       "      <td>7</td>\n",
       "      <td>7</td>\n",
       "      <td>248</td>\n",
       "      <td>3</td>\n",
       "      <td>679</td>\n",
       "      <td>44</td>\n",
       "    </tr>\n",
       "    <tr>\n",
       "      <th>Missing_%</th>\n",
       "      <td>0.0</td>\n",
       "      <td>0.0</td>\n",
       "      <td>0.0</td>\n",
       "      <td>0.0</td>\n",
       "      <td>0.0</td>\n",
       "      <td>0.0</td>\n",
       "      <td>0.0</td>\n",
       "      <td>0.0</td>\n",
       "      <td>0.0</td>\n",
       "      <td>0.0</td>\n",
       "    </tr>\n",
       "  </tbody>\n",
       "</table>\n",
       "</div>"
      ],
      "text/plain": [
       "          Survived Pclass    Sex    Age  SibSp  Parch     Fare Embarked  \\\n",
       "Dtype        int64  int64  int64  int64  int64  int64  float64   object   \n",
       "Unique           2      3      2     71      7      7      248        3   \n",
       "Missing_%      0.0    0.0    0.0    0.0    0.0    0.0      0.0      0.0   \n",
       "\n",
       "          Ticket1 Ticket2  \n",
       "Dtype       int64  object  \n",
       "Unique        679      44  \n",
       "Missing_%     0.0     0.0  "
      ]
     },
     "execution_count": 41,
     "metadata": {},
     "output_type": "execute_result"
    }
   ],
   "source": [
    "temp = {col:[df[col].dtype, df[col].nunique(), round(100*df[col].isnull().sum()/len(df[col]),2)] for col in df}\n",
    "temp_df = pd.DataFrame(data=temp,index=[\"Dtype\",\"Unique\",\"Missing_%\"])\n",
    "temp_df"
   ]
  },
  {
   "cell_type": "code",
   "execution_count": 42,
   "id": "0c230b89",
   "metadata": {},
   "outputs": [
    {
     "data": {
      "text/html": [
       "<div>\n",
       "<style scoped>\n",
       "    .dataframe tbody tr th:only-of-type {\n",
       "        vertical-align: middle;\n",
       "    }\n",
       "\n",
       "    .dataframe tbody tr th {\n",
       "        vertical-align: top;\n",
       "    }\n",
       "\n",
       "    .dataframe thead th {\n",
       "        text-align: right;\n",
       "    }\n",
       "</style>\n",
       "<table border=\"1\" class=\"dataframe\">\n",
       "  <thead>\n",
       "    <tr style=\"text-align: right;\">\n",
       "      <th></th>\n",
       "      <th>Survived</th>\n",
       "      <th>Pclass</th>\n",
       "      <th>Sex</th>\n",
       "      <th>Age</th>\n",
       "      <th>SibSp</th>\n",
       "      <th>Parch</th>\n",
       "      <th>Fare</th>\n",
       "      <th>Ticket1</th>\n",
       "      <th>Embarked_C</th>\n",
       "      <th>Embarked_Q</th>\n",
       "      <th>...</th>\n",
       "      <th>Ticket2_SOTON/O.Q.</th>\n",
       "      <th>Ticket2_SOTON/O2</th>\n",
       "      <th>Ticket2_SOTON/OQ</th>\n",
       "      <th>Ticket2_STON/O</th>\n",
       "      <th>Ticket2_STON/O2.</th>\n",
       "      <th>Ticket2_SW/PP</th>\n",
       "      <th>Ticket2_W./C.</th>\n",
       "      <th>Ticket2_W.E.P.</th>\n",
       "      <th>Ticket2_W/C</th>\n",
       "      <th>Ticket2_WE/P</th>\n",
       "    </tr>\n",
       "  </thead>\n",
       "  <tbody>\n",
       "    <tr>\n",
       "      <th>0</th>\n",
       "      <td>0</td>\n",
       "      <td>3</td>\n",
       "      <td>0</td>\n",
       "      <td>22</td>\n",
       "      <td>1</td>\n",
       "      <td>0</td>\n",
       "      <td>7.2500</td>\n",
       "      <td>21171</td>\n",
       "      <td>0</td>\n",
       "      <td>0</td>\n",
       "      <td>...</td>\n",
       "      <td>0</td>\n",
       "      <td>0</td>\n",
       "      <td>0</td>\n",
       "      <td>0</td>\n",
       "      <td>0</td>\n",
       "      <td>0</td>\n",
       "      <td>0</td>\n",
       "      <td>0</td>\n",
       "      <td>0</td>\n",
       "      <td>0</td>\n",
       "    </tr>\n",
       "    <tr>\n",
       "      <th>1</th>\n",
       "      <td>1</td>\n",
       "      <td>1</td>\n",
       "      <td>1</td>\n",
       "      <td>38</td>\n",
       "      <td>1</td>\n",
       "      <td>0</td>\n",
       "      <td>71.2833</td>\n",
       "      <td>17599</td>\n",
       "      <td>1</td>\n",
       "      <td>0</td>\n",
       "      <td>...</td>\n",
       "      <td>0</td>\n",
       "      <td>0</td>\n",
       "      <td>0</td>\n",
       "      <td>0</td>\n",
       "      <td>0</td>\n",
       "      <td>0</td>\n",
       "      <td>0</td>\n",
       "      <td>0</td>\n",
       "      <td>0</td>\n",
       "      <td>0</td>\n",
       "    </tr>\n",
       "    <tr>\n",
       "      <th>2</th>\n",
       "      <td>1</td>\n",
       "      <td>3</td>\n",
       "      <td>1</td>\n",
       "      <td>26</td>\n",
       "      <td>0</td>\n",
       "      <td>0</td>\n",
       "      <td>7.9250</td>\n",
       "      <td>3101282</td>\n",
       "      <td>0</td>\n",
       "      <td>0</td>\n",
       "      <td>...</td>\n",
       "      <td>0</td>\n",
       "      <td>0</td>\n",
       "      <td>0</td>\n",
       "      <td>0</td>\n",
       "      <td>1</td>\n",
       "      <td>0</td>\n",
       "      <td>0</td>\n",
       "      <td>0</td>\n",
       "      <td>0</td>\n",
       "      <td>0</td>\n",
       "    </tr>\n",
       "    <tr>\n",
       "      <th>3</th>\n",
       "      <td>1</td>\n",
       "      <td>1</td>\n",
       "      <td>1</td>\n",
       "      <td>35</td>\n",
       "      <td>1</td>\n",
       "      <td>0</td>\n",
       "      <td>53.1000</td>\n",
       "      <td>113803</td>\n",
       "      <td>0</td>\n",
       "      <td>0</td>\n",
       "      <td>...</td>\n",
       "      <td>0</td>\n",
       "      <td>0</td>\n",
       "      <td>0</td>\n",
       "      <td>0</td>\n",
       "      <td>0</td>\n",
       "      <td>0</td>\n",
       "      <td>0</td>\n",
       "      <td>0</td>\n",
       "      <td>0</td>\n",
       "      <td>0</td>\n",
       "    </tr>\n",
       "    <tr>\n",
       "      <th>4</th>\n",
       "      <td>0</td>\n",
       "      <td>3</td>\n",
       "      <td>0</td>\n",
       "      <td>35</td>\n",
       "      <td>0</td>\n",
       "      <td>0</td>\n",
       "      <td>8.0500</td>\n",
       "      <td>373450</td>\n",
       "      <td>0</td>\n",
       "      <td>0</td>\n",
       "      <td>...</td>\n",
       "      <td>0</td>\n",
       "      <td>0</td>\n",
       "      <td>0</td>\n",
       "      <td>0</td>\n",
       "      <td>0</td>\n",
       "      <td>0</td>\n",
       "      <td>0</td>\n",
       "      <td>0</td>\n",
       "      <td>0</td>\n",
       "      <td>0</td>\n",
       "    </tr>\n",
       "    <tr>\n",
       "      <th>...</th>\n",
       "      <td>...</td>\n",
       "      <td>...</td>\n",
       "      <td>...</td>\n",
       "      <td>...</td>\n",
       "      <td>...</td>\n",
       "      <td>...</td>\n",
       "      <td>...</td>\n",
       "      <td>...</td>\n",
       "      <td>...</td>\n",
       "      <td>...</td>\n",
       "      <td>...</td>\n",
       "      <td>...</td>\n",
       "      <td>...</td>\n",
       "      <td>...</td>\n",
       "      <td>...</td>\n",
       "      <td>...</td>\n",
       "      <td>...</td>\n",
       "      <td>...</td>\n",
       "      <td>...</td>\n",
       "      <td>...</td>\n",
       "      <td>...</td>\n",
       "    </tr>\n",
       "    <tr>\n",
       "      <th>886</th>\n",
       "      <td>0</td>\n",
       "      <td>2</td>\n",
       "      <td>0</td>\n",
       "      <td>27</td>\n",
       "      <td>0</td>\n",
       "      <td>0</td>\n",
       "      <td>13.0000</td>\n",
       "      <td>211536</td>\n",
       "      <td>0</td>\n",
       "      <td>0</td>\n",
       "      <td>...</td>\n",
       "      <td>0</td>\n",
       "      <td>0</td>\n",
       "      <td>0</td>\n",
       "      <td>0</td>\n",
       "      <td>0</td>\n",
       "      <td>0</td>\n",
       "      <td>0</td>\n",
       "      <td>0</td>\n",
       "      <td>0</td>\n",
       "      <td>0</td>\n",
       "    </tr>\n",
       "    <tr>\n",
       "      <th>887</th>\n",
       "      <td>1</td>\n",
       "      <td>1</td>\n",
       "      <td>1</td>\n",
       "      <td>19</td>\n",
       "      <td>0</td>\n",
       "      <td>0</td>\n",
       "      <td>30.0000</td>\n",
       "      <td>112053</td>\n",
       "      <td>0</td>\n",
       "      <td>0</td>\n",
       "      <td>...</td>\n",
       "      <td>0</td>\n",
       "      <td>0</td>\n",
       "      <td>0</td>\n",
       "      <td>0</td>\n",
       "      <td>0</td>\n",
       "      <td>0</td>\n",
       "      <td>0</td>\n",
       "      <td>0</td>\n",
       "      <td>0</td>\n",
       "      <td>0</td>\n",
       "    </tr>\n",
       "    <tr>\n",
       "      <th>888</th>\n",
       "      <td>0</td>\n",
       "      <td>3</td>\n",
       "      <td>1</td>\n",
       "      <td>17</td>\n",
       "      <td>1</td>\n",
       "      <td>2</td>\n",
       "      <td>23.4500</td>\n",
       "      <td>6607</td>\n",
       "      <td>0</td>\n",
       "      <td>0</td>\n",
       "      <td>...</td>\n",
       "      <td>0</td>\n",
       "      <td>0</td>\n",
       "      <td>0</td>\n",
       "      <td>0</td>\n",
       "      <td>0</td>\n",
       "      <td>0</td>\n",
       "      <td>1</td>\n",
       "      <td>0</td>\n",
       "      <td>0</td>\n",
       "      <td>0</td>\n",
       "    </tr>\n",
       "    <tr>\n",
       "      <th>889</th>\n",
       "      <td>1</td>\n",
       "      <td>1</td>\n",
       "      <td>0</td>\n",
       "      <td>26</td>\n",
       "      <td>0</td>\n",
       "      <td>0</td>\n",
       "      <td>30.0000</td>\n",
       "      <td>111369</td>\n",
       "      <td>1</td>\n",
       "      <td>0</td>\n",
       "      <td>...</td>\n",
       "      <td>0</td>\n",
       "      <td>0</td>\n",
       "      <td>0</td>\n",
       "      <td>0</td>\n",
       "      <td>0</td>\n",
       "      <td>0</td>\n",
       "      <td>0</td>\n",
       "      <td>0</td>\n",
       "      <td>0</td>\n",
       "      <td>0</td>\n",
       "    </tr>\n",
       "    <tr>\n",
       "      <th>890</th>\n",
       "      <td>0</td>\n",
       "      <td>3</td>\n",
       "      <td>0</td>\n",
       "      <td>32</td>\n",
       "      <td>0</td>\n",
       "      <td>0</td>\n",
       "      <td>7.7500</td>\n",
       "      <td>370376</td>\n",
       "      <td>0</td>\n",
       "      <td>1</td>\n",
       "      <td>...</td>\n",
       "      <td>0</td>\n",
       "      <td>0</td>\n",
       "      <td>0</td>\n",
       "      <td>0</td>\n",
       "      <td>0</td>\n",
       "      <td>0</td>\n",
       "      <td>0</td>\n",
       "      <td>0</td>\n",
       "      <td>0</td>\n",
       "      <td>0</td>\n",
       "    </tr>\n",
       "  </tbody>\n",
       "</table>\n",
       "<p>891 rows × 55 columns</p>\n",
       "</div>"
      ],
      "text/plain": [
       "     Survived  Pclass  Sex  Age  SibSp  Parch     Fare  Ticket1  Embarked_C  \\\n",
       "0           0       3    0   22      1      0   7.2500    21171           0   \n",
       "1           1       1    1   38      1      0  71.2833    17599           1   \n",
       "2           1       3    1   26      0      0   7.9250  3101282           0   \n",
       "3           1       1    1   35      1      0  53.1000   113803           0   \n",
       "4           0       3    0   35      0      0   8.0500   373450           0   \n",
       "..        ...     ...  ...  ...    ...    ...      ...      ...         ...   \n",
       "886         0       2    0   27      0      0  13.0000   211536           0   \n",
       "887         1       1    1   19      0      0  30.0000   112053           0   \n",
       "888         0       3    1   17      1      2  23.4500     6607           0   \n",
       "889         1       1    0   26      0      0  30.0000   111369           1   \n",
       "890         0       3    0   32      0      0   7.7500   370376           0   \n",
       "\n",
       "     Embarked_Q  ...  Ticket2_SOTON/O.Q.  Ticket2_SOTON/O2  Ticket2_SOTON/OQ  \\\n",
       "0             0  ...                   0                 0                 0   \n",
       "1             0  ...                   0                 0                 0   \n",
       "2             0  ...                   0                 0                 0   \n",
       "3             0  ...                   0                 0                 0   \n",
       "4             0  ...                   0                 0                 0   \n",
       "..          ...  ...                 ...               ...               ...   \n",
       "886           0  ...                   0                 0                 0   \n",
       "887           0  ...                   0                 0                 0   \n",
       "888           0  ...                   0                 0                 0   \n",
       "889           0  ...                   0                 0                 0   \n",
       "890           1  ...                   0                 0                 0   \n",
       "\n",
       "     Ticket2_STON/O  Ticket2_STON/O2.  Ticket2_SW/PP  Ticket2_W./C.  \\\n",
       "0                 0                 0              0              0   \n",
       "1                 0                 0              0              0   \n",
       "2                 0                 1              0              0   \n",
       "3                 0                 0              0              0   \n",
       "4                 0                 0              0              0   \n",
       "..              ...               ...            ...            ...   \n",
       "886               0                 0              0              0   \n",
       "887               0                 0              0              0   \n",
       "888               0                 0              0              1   \n",
       "889               0                 0              0              0   \n",
       "890               0                 0              0              0   \n",
       "\n",
       "     Ticket2_W.E.P.  Ticket2_W/C  Ticket2_WE/P  \n",
       "0                 0            0             0  \n",
       "1                 0            0             0  \n",
       "2                 0            0             0  \n",
       "3                 0            0             0  \n",
       "4                 0            0             0  \n",
       "..              ...          ...           ...  \n",
       "886               0            0             0  \n",
       "887               0            0             0  \n",
       "888               0            0             0  \n",
       "889               0            0             0  \n",
       "890               0            0             0  \n",
       "\n",
       "[891 rows x 55 columns]"
      ]
     },
     "execution_count": 42,
     "metadata": {},
     "output_type": "execute_result"
    }
   ],
   "source": [
    "df = pd.get_dummies(df)\n",
    "df"
   ]
  },
  {
   "cell_type": "markdown",
   "id": "f74596b2",
   "metadata": {},
   "source": [
    "# Model Date preparation"
   ]
  },
  {
   "cell_type": "code",
   "execution_count": 43,
   "id": "bed6cf36",
   "metadata": {},
   "outputs": [],
   "source": [
    "X=df.drop('Survived',axis=1)\n",
    "y=df['Survived']"
   ]
  },
  {
   "cell_type": "code",
   "execution_count": 44,
   "id": "ffca2c74",
   "metadata": {},
   "outputs": [
    {
     "data": {
      "text/html": [
       "<div>\n",
       "<style scoped>\n",
       "    .dataframe tbody tr th:only-of-type {\n",
       "        vertical-align: middle;\n",
       "    }\n",
       "\n",
       "    .dataframe tbody tr th {\n",
       "        vertical-align: top;\n",
       "    }\n",
       "\n",
       "    .dataframe thead th {\n",
       "        text-align: right;\n",
       "    }\n",
       "</style>\n",
       "<table border=\"1\" class=\"dataframe\">\n",
       "  <thead>\n",
       "    <tr style=\"text-align: right;\">\n",
       "      <th></th>\n",
       "      <th>Pclass</th>\n",
       "      <th>Sex</th>\n",
       "      <th>Age</th>\n",
       "      <th>SibSp</th>\n",
       "      <th>Parch</th>\n",
       "      <th>Fare</th>\n",
       "      <th>Ticket1</th>\n",
       "      <th>Embarked_C</th>\n",
       "      <th>Embarked_Q</th>\n",
       "      <th>Embarked_S</th>\n",
       "      <th>...</th>\n",
       "      <th>Ticket2_SOTON/O.Q.</th>\n",
       "      <th>Ticket2_SOTON/O2</th>\n",
       "      <th>Ticket2_SOTON/OQ</th>\n",
       "      <th>Ticket2_STON/O</th>\n",
       "      <th>Ticket2_STON/O2.</th>\n",
       "      <th>Ticket2_SW/PP</th>\n",
       "      <th>Ticket2_W./C.</th>\n",
       "      <th>Ticket2_W.E.P.</th>\n",
       "      <th>Ticket2_W/C</th>\n",
       "      <th>Ticket2_WE/P</th>\n",
       "    </tr>\n",
       "  </thead>\n",
       "  <tbody>\n",
       "    <tr>\n",
       "      <th>0</th>\n",
       "      <td>3</td>\n",
       "      <td>0</td>\n",
       "      <td>22</td>\n",
       "      <td>1</td>\n",
       "      <td>0</td>\n",
       "      <td>7.2500</td>\n",
       "      <td>21171</td>\n",
       "      <td>0</td>\n",
       "      <td>0</td>\n",
       "      <td>1</td>\n",
       "      <td>...</td>\n",
       "      <td>0</td>\n",
       "      <td>0</td>\n",
       "      <td>0</td>\n",
       "      <td>0</td>\n",
       "      <td>0</td>\n",
       "      <td>0</td>\n",
       "      <td>0</td>\n",
       "      <td>0</td>\n",
       "      <td>0</td>\n",
       "      <td>0</td>\n",
       "    </tr>\n",
       "    <tr>\n",
       "      <th>1</th>\n",
       "      <td>1</td>\n",
       "      <td>1</td>\n",
       "      <td>38</td>\n",
       "      <td>1</td>\n",
       "      <td>0</td>\n",
       "      <td>71.2833</td>\n",
       "      <td>17599</td>\n",
       "      <td>1</td>\n",
       "      <td>0</td>\n",
       "      <td>0</td>\n",
       "      <td>...</td>\n",
       "      <td>0</td>\n",
       "      <td>0</td>\n",
       "      <td>0</td>\n",
       "      <td>0</td>\n",
       "      <td>0</td>\n",
       "      <td>0</td>\n",
       "      <td>0</td>\n",
       "      <td>0</td>\n",
       "      <td>0</td>\n",
       "      <td>0</td>\n",
       "    </tr>\n",
       "    <tr>\n",
       "      <th>2</th>\n",
       "      <td>3</td>\n",
       "      <td>1</td>\n",
       "      <td>26</td>\n",
       "      <td>0</td>\n",
       "      <td>0</td>\n",
       "      <td>7.9250</td>\n",
       "      <td>3101282</td>\n",
       "      <td>0</td>\n",
       "      <td>0</td>\n",
       "      <td>1</td>\n",
       "      <td>...</td>\n",
       "      <td>0</td>\n",
       "      <td>0</td>\n",
       "      <td>0</td>\n",
       "      <td>0</td>\n",
       "      <td>1</td>\n",
       "      <td>0</td>\n",
       "      <td>0</td>\n",
       "      <td>0</td>\n",
       "      <td>0</td>\n",
       "      <td>0</td>\n",
       "    </tr>\n",
       "    <tr>\n",
       "      <th>3</th>\n",
       "      <td>1</td>\n",
       "      <td>1</td>\n",
       "      <td>35</td>\n",
       "      <td>1</td>\n",
       "      <td>0</td>\n",
       "      <td>53.1000</td>\n",
       "      <td>113803</td>\n",
       "      <td>0</td>\n",
       "      <td>0</td>\n",
       "      <td>1</td>\n",
       "      <td>...</td>\n",
       "      <td>0</td>\n",
       "      <td>0</td>\n",
       "      <td>0</td>\n",
       "      <td>0</td>\n",
       "      <td>0</td>\n",
       "      <td>0</td>\n",
       "      <td>0</td>\n",
       "      <td>0</td>\n",
       "      <td>0</td>\n",
       "      <td>0</td>\n",
       "    </tr>\n",
       "    <tr>\n",
       "      <th>4</th>\n",
       "      <td>3</td>\n",
       "      <td>0</td>\n",
       "      <td>35</td>\n",
       "      <td>0</td>\n",
       "      <td>0</td>\n",
       "      <td>8.0500</td>\n",
       "      <td>373450</td>\n",
       "      <td>0</td>\n",
       "      <td>0</td>\n",
       "      <td>1</td>\n",
       "      <td>...</td>\n",
       "      <td>0</td>\n",
       "      <td>0</td>\n",
       "      <td>0</td>\n",
       "      <td>0</td>\n",
       "      <td>0</td>\n",
       "      <td>0</td>\n",
       "      <td>0</td>\n",
       "      <td>0</td>\n",
       "      <td>0</td>\n",
       "      <td>0</td>\n",
       "    </tr>\n",
       "  </tbody>\n",
       "</table>\n",
       "<p>5 rows × 54 columns</p>\n",
       "</div>"
      ],
      "text/plain": [
       "   Pclass  Sex  Age  SibSp  Parch     Fare  Ticket1  Embarked_C  Embarked_Q  \\\n",
       "0       3    0   22      1      0   7.2500    21171           0           0   \n",
       "1       1    1   38      1      0  71.2833    17599           1           0   \n",
       "2       3    1   26      0      0   7.9250  3101282           0           0   \n",
       "3       1    1   35      1      0  53.1000   113803           0           0   \n",
       "4       3    0   35      0      0   8.0500   373450           0           0   \n",
       "\n",
       "   Embarked_S  ...  Ticket2_SOTON/O.Q.  Ticket2_SOTON/O2  Ticket2_SOTON/OQ  \\\n",
       "0           1  ...                   0                 0                 0   \n",
       "1           0  ...                   0                 0                 0   \n",
       "2           1  ...                   0                 0                 0   \n",
       "3           1  ...                   0                 0                 0   \n",
       "4           1  ...                   0                 0                 0   \n",
       "\n",
       "   Ticket2_STON/O  Ticket2_STON/O2.  Ticket2_SW/PP  Ticket2_W./C.  \\\n",
       "0               0                 0              0              0   \n",
       "1               0                 0              0              0   \n",
       "2               0                 1              0              0   \n",
       "3               0                 0              0              0   \n",
       "4               0                 0              0              0   \n",
       "\n",
       "   Ticket2_W.E.P.  Ticket2_W/C  Ticket2_WE/P  \n",
       "0               0            0             0  \n",
       "1               0            0             0  \n",
       "2               0            0             0  \n",
       "3               0            0             0  \n",
       "4               0            0             0  \n",
       "\n",
       "[5 rows x 54 columns]"
      ]
     },
     "execution_count": 44,
     "metadata": {},
     "output_type": "execute_result"
    }
   ],
   "source": [
    "X.head()"
   ]
  },
  {
   "cell_type": "code",
   "execution_count": 45,
   "id": "09764c2e",
   "metadata": {
    "scrolled": true
   },
   "outputs": [
    {
     "data": {
      "text/plain": [
       "0    0\n",
       "1    1\n",
       "2    1\n",
       "3    1\n",
       "4    0\n",
       "Name: Survived, dtype: int64"
      ]
     },
     "execution_count": 45,
     "metadata": {},
     "output_type": "execute_result"
    }
   ],
   "source": [
    "y.head()"
   ]
  },
  {
   "cell_type": "markdown",
   "id": "be358bc1",
   "metadata": {},
   "source": [
    "# Split the data for test"
   ]
  },
  {
   "cell_type": "code",
   "execution_count": 46,
   "id": "5605db1a",
   "metadata": {},
   "outputs": [],
   "source": [
    "from sklearn.model_selection import train_test_split\n",
    "\n",
    "X_train, X_test, y_train, y_test = train_test_split(X, y, test_size=0.30, random_state=101,stratify=y)"
   ]
  },
  {
   "cell_type": "markdown",
   "id": "9c38b311",
   "metadata": {},
   "source": [
    "# Data Scalling"
   ]
  },
  {
   "cell_type": "code",
   "execution_count": 47,
   "id": "4a7e5887",
   "metadata": {},
   "outputs": [],
   "source": [
    "from sklearn.preprocessing import StandardScaler\n",
    "scaler=StandardScaler()"
   ]
  },
  {
   "cell_type": "markdown",
   "id": "9764886e",
   "metadata": {},
   "source": [
    "# Import model required libraries"
   ]
  },
  {
   "cell_type": "code",
   "execution_count": 48,
   "id": "7b50615a",
   "metadata": {},
   "outputs": [],
   "source": [
    "from sklearn.pipeline import Pipeline\n",
    "from sklearn.naive_bayes import GaussianNB\n",
    "from sklearn.ensemble import RandomForestClassifier\n",
    "from sklearn.svm import SVC\n",
    "from sklearn.tree import DecisionTreeClassifier\n",
    "from sklearn.neighbors import KNeighborsClassifier\n",
    "from sklearn.metrics import accuracy_score, confusion_matrix, plot_confusion_matrix, classification_report\n",
    "from collections import Counter"
   ]
  },
  {
   "cell_type": "markdown",
   "id": "0ba6e1ab",
   "metadata": {},
   "source": [
    "# Model Developing"
   ]
  },
  {
   "cell_type": "code",
   "execution_count": 49,
   "id": "a9ed865c",
   "metadata": {},
   "outputs": [],
   "source": [
    "Pipe_NBC = [('scaler1',StandardScaler()),('NBC',GaussianNB())]\n",
    "Pipe_RFC = [('scaler2',StandardScaler()),('RFC',RandomForestClassifier())]\n",
    "Pipe_SVC = [('scaler3',StandardScaler()),('SVC',SVC())]\n",
    "Pipe_DTC = [('scaler4',StandardScaler()),('DTC',DecisionTreeClassifier())]\n",
    "Pipe_KNC = [('scaler5',StandardScaler()),('KNC',KNeighborsClassifier())]"
   ]
  },
  {
   "cell_type": "code",
   "execution_count": 50,
   "id": "da191ec4",
   "metadata": {},
   "outputs": [],
   "source": [
    "pipe_list = [Pipe_NBC, Pipe_RFC, Pipe_SVC, Pipe_DTC, Pipe_KNC]\n",
    "Pipe_num = [\"GaussianNB\", \"RandomForestClassifier\", \"SVC\", \"DecisionTreeClassifier\", \"KNeighborsClassifier\"]"
   ]
  },
  {
   "cell_type": "code",
   "execution_count": 51,
   "id": "c79b7f6c",
   "metadata": {},
   "outputs": [],
   "source": [
    "y = enumerate(Pipe_num)\n",
    "Pipe_name = dict(y)"
   ]
  },
  {
   "cell_type": "code",
   "execution_count": 68,
   "id": "bf5f9412",
   "metadata": {
    "scrolled": false
   },
   "outputs": [
    {
     "name": "stdout",
     "output_type": "stream",
     "text": [
      "****************************************\n",
      "\n",
      "Find the below listed model performance \n",
      "\n",
      "****************************************\n",
      "\n",
      "0.432836                GaussianNB\n",
      "0.742537                       SVC\n",
      "0.768657    DecisionTreeClassifier\n",
      "0.772388    RandomForestClassifier\n",
      "0.787313      KNeighborsClassifier\n",
      "dtype: object \n",
      "\n",
      "****************************************\n",
      "\n",
      "Best Accuracy_score is : KNeighborsClassifier\n"
     ]
    }
   ],
   "source": [
    "#Put data in to Series and find the best accuracy\n",
    "\n",
    "model_result = {}\n",
    "for i,pipe in enumerate(pipe_list):\n",
    "    model = Pipeline(pipe)\n",
    "    model.fit(X_train,y_train)\n",
    "    y_prid = model.predict(X_test)\n",
    "    model_result[accuracy_score(y_test, y_prid)]=Pipe_name[i]\n",
    "    \n",
    "print(\"****************************************\\n\")    \n",
    "print(\"Find the below listed model performance \\n\")\n",
    "print(\"****************************************\\n\")\n",
    "print(pd.Series(model_result).sort_index(),'\\n')\n",
    "print(\"****************************************\\n\")\n",
    "print(\"Best Accuracy_score is :\",list(pd.Series(model_result).sort_index())[-1])"
   ]
  },
  {
   "cell_type": "markdown",
   "id": "7a3e191b",
   "metadata": {},
   "source": [
    "## We found the KNeighborsClassifier is the best fit model with default perameter"
   ]
  },
  {
   "cell_type": "code",
   "execution_count": 53,
   "id": "4dfe7f98",
   "metadata": {},
   "outputs": [],
   "source": [
    "#Set a hipertune for KNN\n",
    "\n",
    "operations = [('scaler',StandardScaler()),('knn',KNeighborsClassifier())]"
   ]
  },
  {
   "cell_type": "code",
   "execution_count": 54,
   "id": "1dc76f0e",
   "metadata": {},
   "outputs": [],
   "source": [
    "pipe = Pipeline(operations)"
   ]
  },
  {
   "cell_type": "code",
   "execution_count": 55,
   "id": "864ea330",
   "metadata": {},
   "outputs": [
    {
     "data": {
      "text/plain": [
       "GridSearchCV(cv=5,\n",
       "             estimator=Pipeline(steps=[('scaler', StandardScaler()),\n",
       "                                       ('knn', KNeighborsClassifier())]),\n",
       "             param_grid={'knn__n_neighbors': [1, 2, 3, 4, 5, 6, 7, 8, 9, 10, 11,\n",
       "                                              12, 13, 14, 15, 16, 17, 18, 19]},\n",
       "             scoring='accuracy')"
      ]
     },
     "execution_count": 55,
     "metadata": {},
     "output_type": "execute_result"
    }
   ],
   "source": [
    "#impliment gridsearch cross validation\n",
    "\n",
    "from sklearn.model_selection import GridSearchCV\n",
    "\n",
    "k_values = list(range(1,20))\n",
    "\n",
    "param_grid = {'knn__n_neighbors': k_values}\n",
    "\n",
    "full_cv_classifier = GridSearchCV(pipe,param_grid,cv=5,scoring='accuracy')\n",
    "\n",
    "full_cv_classifier.fit(X_train,y_train)"
   ]
  },
  {
   "cell_type": "code",
   "execution_count": 56,
   "id": "bad8726d",
   "metadata": {},
   "outputs": [
    {
     "data": {
      "text/plain": [
       "{'memory': None,\n",
       " 'steps': [('scaler', StandardScaler()),\n",
       "  ('knn', KNeighborsClassifier(n_neighbors=10))],\n",
       " 'verbose': False,\n",
       " 'scaler': StandardScaler(),\n",
       " 'knn': KNeighborsClassifier(n_neighbors=10),\n",
       " 'scaler__copy': True,\n",
       " 'scaler__with_mean': True,\n",
       " 'scaler__with_std': True,\n",
       " 'knn__algorithm': 'auto',\n",
       " 'knn__leaf_size': 30,\n",
       " 'knn__metric': 'minkowski',\n",
       " 'knn__metric_params': None,\n",
       " 'knn__n_jobs': None,\n",
       " 'knn__n_neighbors': 10,\n",
       " 'knn__p': 2,\n",
       " 'knn__weights': 'uniform'}"
      ]
     },
     "execution_count": 56,
     "metadata": {},
     "output_type": "execute_result"
    }
   ],
   "source": [
    "full_cv_classifier.best_estimator_.get_params()"
   ]
  },
  {
   "cell_type": "code",
   "execution_count": 57,
   "id": "cf7bb6b2",
   "metadata": {},
   "outputs": [
    {
     "data": {
      "text/plain": [
       "dict_keys(['mean_fit_time', 'std_fit_time', 'mean_score_time', 'std_score_time', 'param_knn__n_neighbors', 'params', 'split0_test_score', 'split1_test_score', 'split2_test_score', 'split3_test_score', 'split4_test_score', 'mean_test_score', 'std_test_score', 'rank_test_score'])"
      ]
     },
     "execution_count": 57,
     "metadata": {},
     "output_type": "execute_result"
    }
   ],
   "source": [
    "full_cv_classifier.cv_results_.keys()"
   ]
  },
  {
   "cell_type": "code",
   "execution_count": 59,
   "id": "3064d539",
   "metadata": {
    "scrolled": true
   },
   "outputs": [
    {
     "data": {
      "text/plain": [
       "array([0.78957419, 0.79609032, 0.80575484, 0.80735484, 0.81541935,\n",
       "       0.81054194, 0.82020645, 0.82023226, 0.82181935, 0.82185806,\n",
       "       0.81703226, 0.80738065, 0.80419355, 0.80739355, 0.80256774,\n",
       "       0.81221935, 0.80098065, 0.80256774, 0.80255484])"
      ]
     },
     "execution_count": 59,
     "metadata": {},
     "output_type": "execute_result"
    }
   ],
   "source": [
    "full_cv_classifier.cv_results_['mean_test_score']"
   ]
  },
  {
   "cell_type": "markdown",
   "id": "c5d8bdc1",
   "metadata": {},
   "source": [
    "    Per Grid search we found the best knn__n_neighbors': 10"
   ]
  },
  {
   "cell_type": "code",
   "execution_count": 61,
   "id": "d73b8bd1",
   "metadata": {},
   "outputs": [],
   "source": [
    "#lets explore more deep to view grapichal plot\n",
    "\n",
    "scaler.fit(X_train)\n",
    "scaled_X_train = scaler.transform(X_train)\n",
    "scaled_X_test = scaler.transform(X_test)\n",
    "\n",
    "test_error_rates = []\n",
    "\n",
    "\n",
    "for k in range(1,30):\n",
    "    knn_model = KNeighborsClassifier(n_neighbors=k)\n",
    "    knn_model.fit(scaled_X_train,y_train) \n",
    "   \n",
    "    y_pred_test = knn_model.predict(scaled_X_test)\n",
    "    \n",
    "    test_error = 1 - accuracy_score(y_test,y_pred_test)\n",
    "    test_error_rates.append(test_error)"
   ]
  },
  {
   "cell_type": "code",
   "execution_count": 72,
   "id": "516fe6c6",
   "metadata": {},
   "outputs": [
    {
     "data": {
      "image/png": "[encoded data removed]",
      "text/plain": [
       "<Figure size 600x400 with 1 Axes>"
      ]
     },
     "metadata": {
      "needs_background": "light"
     },
     "output_type": "display_data"
    }
   ],
   "source": [
    "#ploting the error rate and kvalues\n",
    "\n",
    "plt.figure(figsize=(6,4),dpi=100)\n",
    "plt.plot(range(1,30),test_error_rates,label='Test Error')\n",
    "plt.legend()\n",
    "plt.ylabel('Error Rate')\n",
    "plt.xlabel(\"K Value\");"
   ]
  },
  {
   "cell_type": "code",
   "execution_count": 71,
   "id": "c00ea6c7",
   "metadata": {},
   "outputs": [
    {
     "data": {
      "image/png": "[encoded data removed]",
      "text/plain": [
       "<Figure size 600x400 with 1 Axes>"
      ]
     },
     "metadata": {
      "needs_background": "light"
     },
     "output_type": "display_data"
    }
   ],
   "source": [
    "#find the best k value\n",
    "\n",
    "plt.figure(figsize=(6,4),dpi=100)\n",
    "plt.plot(range(1,30),test_error_rates,label='Test Error')\n",
    "plt.legend()\n",
    "plt.ylabel('Error Rate')\n",
    "plt.xlabel(\"K Value\")\n",
    "plt.xlim(1, 10)\n",
    "plt.title(\"Beat K value is : 7\");"
   ]
  },
  {
   "cell_type": "code",
   "execution_count": 76,
   "id": "315d82f3",
   "metadata": {},
   "outputs": [
    {
     "name": "stdout",
     "output_type": "stream",
     "text": [
      "              precision    recall  f1-score   support\n",
      "\n",
      "           0       0.79      0.91      0.85       165\n",
      "           1       0.81      0.62      0.70       103\n",
      "\n",
      "    accuracy                           0.80       268\n",
      "   macro avg       0.80      0.77      0.78       268\n",
      "weighted avg       0.80      0.80      0.79       268\n",
      "\n"
     ]
    }
   ],
   "source": [
    "#perform the final model to change n_neighbors=7\n",
    "\n",
    "scaler = StandardScaler()\n",
    "knn07 = KNeighborsClassifier(n_neighbors=7)\n",
    "operations = [('scaler',scaler),('knn07',knn07)]\n",
    "pipe = Pipeline(operations)\n",
    "pipe.fit(X_train,y_train)\n",
    "pipe_pred = pipe.predict(X_test)\n",
    "print(classification_report(y_test,pipe_pred))"
   ]
  },
  {
   "cell_type": "code",
   "execution_count": 87,
   "id": "415c6101",
   "metadata": {},
   "outputs": [],
   "source": [
    "#Saving Model (and anything else as pickle file)\n",
    "\n",
    "import joblib"
   ]
  },
  {
   "cell_type": "code",
   "execution_count": 89,
   "id": "57089a72",
   "metadata": {},
   "outputs": [
    {
     "data": {
      "text/plain": [
       "['pipe.pkl']"
      ]
     },
     "execution_count": 89,
     "metadata": {},
     "output_type": "execute_result"
    }
   ],
   "source": [
    "joblib.dump(pipe,'pipe.pkl')"
   ]
  },
  {
   "cell_type": "code",
   "execution_count": 92,
   "id": "5fd26008",
   "metadata": {},
   "outputs": [
    {
     "data": {
      "text/plain": [
       "['column_names.pkl']"
      ]
     },
     "execution_count": 92,
     "metadata": {},
     "output_type": "execute_result"
    }
   ],
   "source": [
    "joblib.dump(list(X.columns),'column_names.pkl')"
   ]
  },
  {
   "cell_type": "code",
   "execution_count": 93,
   "id": "4553f6e2",
   "metadata": {},
   "outputs": [],
   "source": [
    "col_names = joblib.load('column_names.pkl')"
   ]
  },
  {
   "cell_type": "code",
   "execution_count": 95,
   "id": "cd7b5fa6",
   "metadata": {},
   "outputs": [],
   "source": [
    "loaded_model = joblib.load('pipe.pkl')"
   ]
  },
  {
   "cell_type": "code",
   "execution_count": 125,
   "id": "649cecac",
   "metadata": {},
   "outputs": [
    {
     "data": {
      "text/plain": [
       "array([0], dtype=int64)"
      ]
     },
     "execution_count": 125,
     "metadata": {},
     "output_type": "execute_result"
    }
   ],
   "source": [
    "loaded_model.predict([scaled_X_train[23]])"
   ]
  },
  {
   "cell_type": "code",
   "execution_count": 121,
   "id": "e6bab9fb",
   "metadata": {},
   "outputs": [
    {
     "data": {
      "text/plain": [
       "Survived                   1.0\n",
       "Pclass                     1.0\n",
       "Sex                        0.0\n",
       "Age                       28.0\n",
       "SibSp                      0.0\n",
       "Parch                      0.0\n",
       "Fare                      35.5\n",
       "Ticket1               113788.0\n",
       "Embarked_C                 0.0\n",
       "Embarked_Q                 0.0\n",
       "Embarked_S                 1.0\n",
       "Ticket2_A./5.              0.0\n",
       "Ticket2_A.5.               0.0\n",
       "Ticket2_A/4                0.0\n",
       "Ticket2_A/4.               0.0\n",
       "Ticket2_A/5                0.0\n",
       "Ticket2_A/5.               0.0\n",
       "Ticket2_A/S                0.0\n",
       "Ticket2_A4.                0.0\n",
       "Ticket2_C                  0.0\n",
       "Ticket2_C.A.               0.0\n",
       "Ticket2_C.A./SOTON         0.0\n",
       "Ticket2_CA                 0.0\n",
       "Ticket2_CA.                0.0\n",
       "Ticket2_F.C.               0.0\n",
       "Ticket2_F.C.C.             0.0\n",
       "Ticket2_Fa                 0.0\n",
       "Ticket2_LINE               0.0\n",
       "Ticket2_Normal             1.0\n",
       "Ticket2_P/PP               0.0\n",
       "Ticket2_PC                 0.0\n",
       "Ticket2_PP                 0.0\n",
       "Ticket2_S.C./A.4.          0.0\n",
       "Ticket2_S.C./PARIS         0.0\n",
       "Ticket2_S.O./P.P.          0.0\n",
       "Ticket2_S.O.C.             0.0\n",
       "Ticket2_S.O.P.             0.0\n",
       "Ticket2_S.P.               0.0\n",
       "Ticket2_S.W./PP            0.0\n",
       "Ticket2_SC                 0.0\n",
       "Ticket2_SC/AH              0.0\n",
       "Ticket2_SC/PARIS           0.0\n",
       "Ticket2_SC/Paris           0.0\n",
       "Ticket2_SCO/W              0.0\n",
       "Ticket2_SO/C               0.0\n",
       "Ticket2_SOTON/O.Q.         0.0\n",
       "Ticket2_SOTON/O2           0.0\n",
       "Ticket2_SOTON/OQ           0.0\n",
       "Ticket2_STON/O             0.0\n",
       "Ticket2_STON/O2.           0.0\n",
       "Ticket2_SW/PP              0.0\n",
       "Ticket2_W./C.              0.0\n",
       "Ticket2_W.E.P.             0.0\n",
       "Ticket2_W/C                0.0\n",
       "Ticket2_WE/P               0.0\n",
       "Name: 23, dtype: float64"
      ]
     },
     "execution_count": 121,
     "metadata": {},
     "output_type": "execute_result"
    }
   ],
   "source": [
    "df.iloc[23]"
   ]
  },
  {
   "cell_type": "code",
   "execution_count": null,
   "id": "0c0c9871",
   "metadata": {},
   "outputs": [],
   "source": []
  }
 ],
 "metadata": {
  "kernelspec": {
   "display_name": "Python 3 (ipykernel)",
   "language": "python",
   "name": "python3"
  },
  "language_info": {
   "codemirror_mode": {
    "name": "ipython",
    "version": 3
   },
   "file_extension": ".py",
   "mimetype": "text/x-python",
   "name": "python",
   "nbconvert_exporter": "python",
   "pygments_lexer": "ipython3",
   "version": "3.9.7"
  }
 },
 "nbformat": 4,
 "nbformat_minor": 5
}
